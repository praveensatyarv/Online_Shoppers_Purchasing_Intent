{
 "cells": [
  {
   "cell_type": "markdown",
   "id": "10e2fffa",
   "metadata": {},
   "source": [
    "# 1. Import Modules"
   ]
  },
  {
   "cell_type": "code",
   "execution_count": 1,
   "id": "f9c836e3",
   "metadata": {},
   "outputs": [],
   "source": [
    "# imports\n",
    "# data transformation\n",
    "import pandas as pd\n",
    "import numpy as np\n",
    "\n",
    "# visualization\n",
    "import seaborn as sns\n",
    "import matplotlib.pyplot as plt\n",
    "\n",
    "# machine learning\n",
    "from imblearn.over_sampling import SMOTE\n",
    "from sklearn.model_selection import train_test_split\n",
    "from sklearn.feature_selection import RFE\n",
    "from sklearn.linear_model import LogisticRegression\n",
    "from sklearn.linear_model import LogisticRegression\n",
    "from sklearn import metrics\n",
    "from sklearn.metrics import confusion_matrix\n",
    "from sklearn.metrics import roc_auc_score\n",
    "from sklearn.metrics import roc_curve\n",
    "from sklearn.metrics import classification_report\n",
    "from sklearn.ensemble import RandomForestClassifier\n",
    "from sklearn.svm import SVC\n",
    "from sklearn.metrics import roc_auc_score\n",
    "from sklearn.metrics import roc_curve\n",
    "import statsmodels.api as sm"
   ]
  },
  {
   "cell_type": "markdown",
   "id": "5f373c34",
   "metadata": {},
   "source": [
    "# 2. Load Data And Preprocessing"
   ]
  },
  {
   "cell_type": "markdown",
   "id": "ed65a7fa",
   "metadata": {},
   "source": [
    "### Dataset Description\n",
    "\n",
    "### Numerical Features:\n",
    "- **Administrative**:  \n",
    "  Number of pages visited by the visitor about account management.\n",
    "\n",
    "- **Administrative duration**:  \n",
    "  Total amount of time (in seconds) spent by the visitor on account management related pages.\n",
    "\n",
    "- **Informational**:  \n",
    "  Number of pages visited by the visitor about Web site, communication, and address information of the shopping site.\n",
    "\n",
    "- **Informational duration**:  \n",
    "  Total amount of time (in seconds) spent by the visitor on informational pages.\n",
    "\n",
    "- **Product related**:  \n",
    "  Number of pages visited by the visitor about product-related pages.\n",
    "\n",
    "- **Product related duration**:  \n",
    "  Total amount of time (in seconds) spent by the visitor on product-related pages.\n",
    "\n",
    "- **Bounce rate**:  \n",
    "  Average bounce rate value of the pages visited by the visitor.\n",
    "\n",
    "- **Exit rate**:  \n",
    "  Average exit rate value of the pages visited by the visitor.\n",
    "\n",
    "- **Page value**:  \n",
    "  Average page value of the pages visited by the visitor.\n",
    "\n",
    "- **Special day**:  \n",
    "  Closeness of the site visiting time to a special day.\n",
    "\n",
    "---\n",
    "\n",
    "### Categorical Features:\n",
    "- **OperatingSystems**:  \n",
    "  Operating system of the visitor.\n",
    "\n",
    "- **Browser**:  \n",
    "  Browser of the visitor.\n",
    "\n",
    "- **Region**:  \n",
    "  Geographic region from which the session has been started by the visitor.\n",
    "\n",
    "- **TrafficType**:  \n",
    "  Traffic source by which the visitor has arrived at the Web site (e.g., banner, SMS, direct).\n",
    "\n",
    "- **VisitorType**:  \n",
    "  Visitor type as ‘‘New Visitor,’’ ‘‘Returning Visitor,’’ and ‘‘Other.’’\n",
    "\n",
    "- **Weekend**:  \n",
    "  Boolean value indicating whether the date of the visit is a weekend.\n",
    "\n",
    "- **Month**:  \n",
    "  Month value of the visit date.\n",
    "\n",
    "- **Revenue**:  \n",
    "  Class label indicating whether the visit has been finalized with a transaction.\n"
   ]
  },
  {
   "cell_type": "markdown",
   "id": "261c5bbf",
   "metadata": {},
   "source": [
    "2.1 Load Data"
   ]
  },
  {
   "cell_type": "code",
   "execution_count": 2,
   "id": "34b7b24c",
   "metadata": {},
   "outputs": [],
   "source": [
    "# load data\n",
    "shopper_df = pd.read_csv('dataset/online_shoppers_intention.csv')"
   ]
  },
  {
   "cell_type": "code",
   "execution_count": 3,
   "id": "b12f7122",
   "metadata": {
    "scrolled": true
   },
   "outputs": [
    {
     "data": {
      "text/html": [
       "<div>\n",
       "<style scoped>\n",
       "    .dataframe tbody tr th:only-of-type {\n",
       "        vertical-align: middle;\n",
       "    }\n",
       "\n",
       "    .dataframe tbody tr th {\n",
       "        vertical-align: top;\n",
       "    }\n",
       "\n",
       "    .dataframe thead th {\n",
       "        text-align: right;\n",
       "    }\n",
       "</style>\n",
       "<table border=\"1\" class=\"dataframe\">\n",
       "  <thead>\n",
       "    <tr style=\"text-align: right;\">\n",
       "      <th></th>\n",
       "      <th>Administrative</th>\n",
       "      <th>Administrative_Duration</th>\n",
       "      <th>Informational</th>\n",
       "      <th>Informational_Duration</th>\n",
       "      <th>ProductRelated</th>\n",
       "      <th>ProductRelated_Duration</th>\n",
       "      <th>BounceRates</th>\n",
       "      <th>ExitRates</th>\n",
       "      <th>PageValues</th>\n",
       "      <th>SpecialDay</th>\n",
       "      <th>Month</th>\n",
       "      <th>OperatingSystems</th>\n",
       "      <th>Browser</th>\n",
       "      <th>Region</th>\n",
       "      <th>TrafficType</th>\n",
       "      <th>VisitorType</th>\n",
       "      <th>Weekend</th>\n",
       "      <th>Revenue</th>\n",
       "    </tr>\n",
       "  </thead>\n",
       "  <tbody>\n",
       "    <tr>\n",
       "      <th>0</th>\n",
       "      <td>0</td>\n",
       "      <td>0.0</td>\n",
       "      <td>0</td>\n",
       "      <td>0.0</td>\n",
       "      <td>1</td>\n",
       "      <td>0.000000</td>\n",
       "      <td>0.20</td>\n",
       "      <td>0.20</td>\n",
       "      <td>0.0</td>\n",
       "      <td>0.0</td>\n",
       "      <td>Feb</td>\n",
       "      <td>1</td>\n",
       "      <td>1</td>\n",
       "      <td>1</td>\n",
       "      <td>1</td>\n",
       "      <td>Returning_Visitor</td>\n",
       "      <td>False</td>\n",
       "      <td>False</td>\n",
       "    </tr>\n",
       "    <tr>\n",
       "      <th>1</th>\n",
       "      <td>0</td>\n",
       "      <td>0.0</td>\n",
       "      <td>0</td>\n",
       "      <td>0.0</td>\n",
       "      <td>2</td>\n",
       "      <td>64.000000</td>\n",
       "      <td>0.00</td>\n",
       "      <td>0.10</td>\n",
       "      <td>0.0</td>\n",
       "      <td>0.0</td>\n",
       "      <td>Feb</td>\n",
       "      <td>2</td>\n",
       "      <td>2</td>\n",
       "      <td>1</td>\n",
       "      <td>2</td>\n",
       "      <td>Returning_Visitor</td>\n",
       "      <td>False</td>\n",
       "      <td>False</td>\n",
       "    </tr>\n",
       "    <tr>\n",
       "      <th>2</th>\n",
       "      <td>0</td>\n",
       "      <td>0.0</td>\n",
       "      <td>0</td>\n",
       "      <td>0.0</td>\n",
       "      <td>1</td>\n",
       "      <td>0.000000</td>\n",
       "      <td>0.20</td>\n",
       "      <td>0.20</td>\n",
       "      <td>0.0</td>\n",
       "      <td>0.0</td>\n",
       "      <td>Feb</td>\n",
       "      <td>4</td>\n",
       "      <td>1</td>\n",
       "      <td>9</td>\n",
       "      <td>3</td>\n",
       "      <td>Returning_Visitor</td>\n",
       "      <td>False</td>\n",
       "      <td>False</td>\n",
       "    </tr>\n",
       "    <tr>\n",
       "      <th>3</th>\n",
       "      <td>0</td>\n",
       "      <td>0.0</td>\n",
       "      <td>0</td>\n",
       "      <td>0.0</td>\n",
       "      <td>2</td>\n",
       "      <td>2.666667</td>\n",
       "      <td>0.05</td>\n",
       "      <td>0.14</td>\n",
       "      <td>0.0</td>\n",
       "      <td>0.0</td>\n",
       "      <td>Feb</td>\n",
       "      <td>3</td>\n",
       "      <td>2</td>\n",
       "      <td>2</td>\n",
       "      <td>4</td>\n",
       "      <td>Returning_Visitor</td>\n",
       "      <td>False</td>\n",
       "      <td>False</td>\n",
       "    </tr>\n",
       "    <tr>\n",
       "      <th>4</th>\n",
       "      <td>0</td>\n",
       "      <td>0.0</td>\n",
       "      <td>0</td>\n",
       "      <td>0.0</td>\n",
       "      <td>10</td>\n",
       "      <td>627.500000</td>\n",
       "      <td>0.02</td>\n",
       "      <td>0.05</td>\n",
       "      <td>0.0</td>\n",
       "      <td>0.0</td>\n",
       "      <td>Feb</td>\n",
       "      <td>3</td>\n",
       "      <td>3</td>\n",
       "      <td>1</td>\n",
       "      <td>4</td>\n",
       "      <td>Returning_Visitor</td>\n",
       "      <td>True</td>\n",
       "      <td>False</td>\n",
       "    </tr>\n",
       "  </tbody>\n",
       "</table>\n",
       "</div>"
      ],
      "text/plain": [
       "   Administrative  Administrative_Duration  Informational  \\\n",
       "0               0                      0.0              0   \n",
       "1               0                      0.0              0   \n",
       "2               0                      0.0              0   \n",
       "3               0                      0.0              0   \n",
       "4               0                      0.0              0   \n",
       "\n",
       "   Informational_Duration  ProductRelated  ProductRelated_Duration  \\\n",
       "0                     0.0               1                 0.000000   \n",
       "1                     0.0               2                64.000000   \n",
       "2                     0.0               1                 0.000000   \n",
       "3                     0.0               2                 2.666667   \n",
       "4                     0.0              10               627.500000   \n",
       "\n",
       "   BounceRates  ExitRates  PageValues  SpecialDay Month  OperatingSystems  \\\n",
       "0         0.20       0.20         0.0         0.0   Feb                 1   \n",
       "1         0.00       0.10         0.0         0.0   Feb                 2   \n",
       "2         0.20       0.20         0.0         0.0   Feb                 4   \n",
       "3         0.05       0.14         0.0         0.0   Feb                 3   \n",
       "4         0.02       0.05         0.0         0.0   Feb                 3   \n",
       "\n",
       "   Browser  Region  TrafficType        VisitorType  Weekend  Revenue  \n",
       "0        1       1            1  Returning_Visitor    False    False  \n",
       "1        2       1            2  Returning_Visitor    False    False  \n",
       "2        1       9            3  Returning_Visitor    False    False  \n",
       "3        2       2            4  Returning_Visitor    False    False  \n",
       "4        3       1            4  Returning_Visitor     True    False  "
      ]
     },
     "execution_count": 3,
     "metadata": {},
     "output_type": "execute_result"
    }
   ],
   "source": [
    "# display a sample\n",
    "shopper_df.head()"
   ]
  },
  {
   "cell_type": "code",
   "execution_count": 4,
   "id": "98ff5622",
   "metadata": {},
   "outputs": [
    {
     "data": {
      "text/plain": [
       "Index(['Administrative', 'Administrative_Duration', 'Informational',\n",
       "       'Informational_Duration', 'ProductRelated', 'ProductRelated_Duration',\n",
       "       'BounceRates', 'ExitRates', 'PageValues', 'SpecialDay', 'Month',\n",
       "       'OperatingSystems', 'Browser', 'Region', 'TrafficType', 'VisitorType',\n",
       "       'Weekend', 'Revenue'],\n",
       "      dtype='object')"
      ]
     },
     "execution_count": 4,
     "metadata": {},
     "output_type": "execute_result"
    }
   ],
   "source": [
    "# columns in the dataset\n",
    "shopper_df.columns"
   ]
  },
  {
   "cell_type": "markdown",
   "id": "a5abc3d8",
   "metadata": {},
   "source": [
    "2.2 Change Column Data Types"
   ]
  },
  {
   "cell_type": "code",
   "execution_count": 5,
   "id": "d63e5278",
   "metadata": {
    "scrolled": true
   },
   "outputs": [
    {
     "data": {
      "text/plain": [
       "Administrative               int64\n",
       "Administrative_Duration    float64\n",
       "Informational                int64\n",
       "Informational_Duration     float64\n",
       "ProductRelated               int64\n",
       "ProductRelated_Duration    float64\n",
       "BounceRates                float64\n",
       "ExitRates                  float64\n",
       "PageValues                 float64\n",
       "SpecialDay                 float64\n",
       "Month                       object\n",
       "OperatingSystems             int64\n",
       "Browser                      int64\n",
       "Region                       int64\n",
       "TrafficType                  int64\n",
       "VisitorType                 object\n",
       "Weekend                       bool\n",
       "Revenue                       bool\n",
       "dtype: object"
      ]
     },
     "execution_count": 5,
     "metadata": {},
     "output_type": "execute_result"
    }
   ],
   "source": [
    "# data type of columns\n",
    "shopper_df.dtypes"
   ]
  },
  {
   "cell_type": "code",
   "execution_count": 6,
   "id": "71ab0d4e",
   "metadata": {},
   "outputs": [],
   "source": [
    "# correcting the data type of columns\n",
    "columns_to_convert = ['OperatingSystems','Browser', 'Region', 'TrafficType', 'VisitorType', 'Weekend', 'Month']\n",
    "shopper_df['Revenue'] = shopper_df['Revenue'].astype(int)\n",
    "shopper_df[columns_to_convert] = shopper_df[columns_to_convert].astype('object')"
   ]
  },
  {
   "cell_type": "code",
   "execution_count": 7,
   "id": "691d3428",
   "metadata": {},
   "outputs": [
    {
     "data": {
      "text/plain": [
       "Administrative               int64\n",
       "Administrative_Duration    float64\n",
       "Informational                int64\n",
       "Informational_Duration     float64\n",
       "ProductRelated               int64\n",
       "ProductRelated_Duration    float64\n",
       "BounceRates                float64\n",
       "ExitRates                  float64\n",
       "PageValues                 float64\n",
       "SpecialDay                 float64\n",
       "Month                       object\n",
       "OperatingSystems            object\n",
       "Browser                     object\n",
       "Region                      object\n",
       "TrafficType                 object\n",
       "VisitorType                 object\n",
       "Weekend                     object\n",
       "Revenue                      int32\n",
       "dtype: object"
      ]
     },
     "execution_count": 7,
     "metadata": {},
     "output_type": "execute_result"
    }
   ],
   "source": [
    "# check column data types after collection\n",
    "shopper_df.dtypes"
   ]
  },
  {
   "cell_type": "markdown",
   "id": "9967e78b",
   "metadata": {},
   "source": [
    "2.3 Check for Null Values"
   ]
  },
  {
   "cell_type": "code",
   "execution_count": 8,
   "id": "3c566c75",
   "metadata": {},
   "outputs": [
    {
     "data": {
      "text/plain": [
       "Administrative             0\n",
       "Administrative_Duration    0\n",
       "Informational              0\n",
       "Informational_Duration     0\n",
       "ProductRelated             0\n",
       "ProductRelated_Duration    0\n",
       "BounceRates                0\n",
       "ExitRates                  0\n",
       "PageValues                 0\n",
       "SpecialDay                 0\n",
       "Month                      0\n",
       "OperatingSystems           0\n",
       "Browser                    0\n",
       "Region                     0\n",
       "TrafficType                0\n",
       "VisitorType                0\n",
       "Weekend                    0\n",
       "Revenue                    0\n",
       "dtype: int64"
      ]
     },
     "execution_count": 8,
     "metadata": {},
     "output_type": "execute_result"
    }
   ],
   "source": [
    "# check for nulls\n",
    "shopper_df.isna().sum()"
   ]
  },
  {
   "cell_type": "markdown",
   "id": "407f16e8",
   "metadata": {},
   "source": [
    "2.4 Remove Duplicates"
   ]
  },
  {
   "cell_type": "code",
   "execution_count": 9,
   "id": "11c87966",
   "metadata": {},
   "outputs": [
    {
     "name": "stdout",
     "output_type": "stream",
     "text": [
      "Number of duplicate rows:  125\n"
     ]
    }
   ],
   "source": [
    "# check for duplicates\n",
    "print(\"Number of duplicate rows: \", shopper_df.duplicated().sum())"
   ]
  },
  {
   "cell_type": "code",
   "execution_count": 10,
   "id": "e1977a4f",
   "metadata": {},
   "outputs": [],
   "source": [
    "# remove duplicates\n",
    "shopper_df.drop_duplicates(inplace=True)"
   ]
  },
  {
   "cell_type": "code",
   "execution_count": 11,
   "id": "afb60791",
   "metadata": {},
   "outputs": [
    {
     "data": {
      "text/plain": [
       "0"
      ]
     },
     "execution_count": 11,
     "metadata": {},
     "output_type": "execute_result"
    }
   ],
   "source": [
    "# check for duplicates again\n",
    "shopper_df.duplicated().sum()"
   ]
  },
  {
   "cell_type": "markdown",
   "id": "4c958ba5",
   "metadata": {},
   "source": [
    "# 3. Data Exploration"
   ]
  },
  {
   "cell_type": "markdown",
   "id": "6564a601",
   "metadata": {},
   "source": [
    "3.1 Statistical Summary of the Dataset"
   ]
  },
  {
   "cell_type": "code",
   "execution_count": 12,
   "id": "b8aa0d55",
   "metadata": {},
   "outputs": [
    {
     "data": {
      "text/html": [
       "<div>\n",
       "<style scoped>\n",
       "    .dataframe tbody tr th:only-of-type {\n",
       "        vertical-align: middle;\n",
       "    }\n",
       "\n",
       "    .dataframe tbody tr th {\n",
       "        vertical-align: top;\n",
       "    }\n",
       "\n",
       "    .dataframe thead th {\n",
       "        text-align: right;\n",
       "    }\n",
       "</style>\n",
       "<table border=\"1\" class=\"dataframe\">\n",
       "  <thead>\n",
       "    <tr style=\"text-align: right;\">\n",
       "      <th></th>\n",
       "      <th>count</th>\n",
       "      <th>mean</th>\n",
       "      <th>std</th>\n",
       "      <th>min</th>\n",
       "      <th>25%</th>\n",
       "      <th>50%</th>\n",
       "      <th>75%</th>\n",
       "      <th>max</th>\n",
       "    </tr>\n",
       "  </thead>\n",
       "  <tbody>\n",
       "    <tr>\n",
       "      <th>Administrative</th>\n",
       "      <td>12205.0</td>\n",
       "      <td>2.338878</td>\n",
       "      <td>3.330436</td>\n",
       "      <td>0.0</td>\n",
       "      <td>0.000000</td>\n",
       "      <td>1.000000</td>\n",
       "      <td>4.000000</td>\n",
       "      <td>27.000000</td>\n",
       "    </tr>\n",
       "    <tr>\n",
       "      <th>Administrative_Duration</th>\n",
       "      <td>12205.0</td>\n",
       "      <td>81.646331</td>\n",
       "      <td>177.491845</td>\n",
       "      <td>0.0</td>\n",
       "      <td>0.000000</td>\n",
       "      <td>9.000000</td>\n",
       "      <td>94.700000</td>\n",
       "      <td>3398.750000</td>\n",
       "    </tr>\n",
       "    <tr>\n",
       "      <th>Informational</th>\n",
       "      <td>12205.0</td>\n",
       "      <td>0.508726</td>\n",
       "      <td>1.275617</td>\n",
       "      <td>0.0</td>\n",
       "      <td>0.000000</td>\n",
       "      <td>0.000000</td>\n",
       "      <td>0.000000</td>\n",
       "      <td>24.000000</td>\n",
       "    </tr>\n",
       "    <tr>\n",
       "      <th>Informational_Duration</th>\n",
       "      <td>12205.0</td>\n",
       "      <td>34.825454</td>\n",
       "      <td>141.424807</td>\n",
       "      <td>0.0</td>\n",
       "      <td>0.000000</td>\n",
       "      <td>0.000000</td>\n",
       "      <td>0.000000</td>\n",
       "      <td>2549.375000</td>\n",
       "    </tr>\n",
       "    <tr>\n",
       "      <th>ProductRelated</th>\n",
       "      <td>12205.0</td>\n",
       "      <td>32.045637</td>\n",
       "      <td>44.593649</td>\n",
       "      <td>0.0</td>\n",
       "      <td>8.000000</td>\n",
       "      <td>18.000000</td>\n",
       "      <td>38.000000</td>\n",
       "      <td>705.000000</td>\n",
       "    </tr>\n",
       "    <tr>\n",
       "      <th>ProductRelated_Duration</th>\n",
       "      <td>12205.0</td>\n",
       "      <td>1206.982457</td>\n",
       "      <td>1919.601400</td>\n",
       "      <td>0.0</td>\n",
       "      <td>193.000000</td>\n",
       "      <td>608.942857</td>\n",
       "      <td>1477.154762</td>\n",
       "      <td>63973.522230</td>\n",
       "    </tr>\n",
       "    <tr>\n",
       "      <th>BounceRates</th>\n",
       "      <td>12205.0</td>\n",
       "      <td>0.020370</td>\n",
       "      <td>0.045255</td>\n",
       "      <td>0.0</td>\n",
       "      <td>0.000000</td>\n",
       "      <td>0.002899</td>\n",
       "      <td>0.016667</td>\n",
       "      <td>0.200000</td>\n",
       "    </tr>\n",
       "    <tr>\n",
       "      <th>ExitRates</th>\n",
       "      <td>12205.0</td>\n",
       "      <td>0.041466</td>\n",
       "      <td>0.046163</td>\n",
       "      <td>0.0</td>\n",
       "      <td>0.014231</td>\n",
       "      <td>0.025000</td>\n",
       "      <td>0.048529</td>\n",
       "      <td>0.200000</td>\n",
       "    </tr>\n",
       "    <tr>\n",
       "      <th>PageValues</th>\n",
       "      <td>12205.0</td>\n",
       "      <td>5.949574</td>\n",
       "      <td>18.653671</td>\n",
       "      <td>0.0</td>\n",
       "      <td>0.000000</td>\n",
       "      <td>0.000000</td>\n",
       "      <td>0.000000</td>\n",
       "      <td>361.763742</td>\n",
       "    </tr>\n",
       "    <tr>\n",
       "      <th>SpecialDay</th>\n",
       "      <td>12205.0</td>\n",
       "      <td>0.061942</td>\n",
       "      <td>0.199666</td>\n",
       "      <td>0.0</td>\n",
       "      <td>0.000000</td>\n",
       "      <td>0.000000</td>\n",
       "      <td>0.000000</td>\n",
       "      <td>1.000000</td>\n",
       "    </tr>\n",
       "  </tbody>\n",
       "</table>\n",
       "</div>"
      ],
      "text/plain": [
       "                           count         mean          std  min         25%  \\\n",
       "Administrative           12205.0     2.338878     3.330436  0.0    0.000000   \n",
       "Administrative_Duration  12205.0    81.646331   177.491845  0.0    0.000000   \n",
       "Informational            12205.0     0.508726     1.275617  0.0    0.000000   \n",
       "Informational_Duration   12205.0    34.825454   141.424807  0.0    0.000000   \n",
       "ProductRelated           12205.0    32.045637    44.593649  0.0    8.000000   \n",
       "ProductRelated_Duration  12205.0  1206.982457  1919.601400  0.0  193.000000   \n",
       "BounceRates              12205.0     0.020370     0.045255  0.0    0.000000   \n",
       "ExitRates                12205.0     0.041466     0.046163  0.0    0.014231   \n",
       "PageValues               12205.0     5.949574    18.653671  0.0    0.000000   \n",
       "SpecialDay               12205.0     0.061942     0.199666  0.0    0.000000   \n",
       "\n",
       "                                50%          75%           max  \n",
       "Administrative             1.000000     4.000000     27.000000  \n",
       "Administrative_Duration    9.000000    94.700000   3398.750000  \n",
       "Informational              0.000000     0.000000     24.000000  \n",
       "Informational_Duration     0.000000     0.000000   2549.375000  \n",
       "ProductRelated            18.000000    38.000000    705.000000  \n",
       "ProductRelated_Duration  608.942857  1477.154762  63973.522230  \n",
       "BounceRates                0.002899     0.016667      0.200000  \n",
       "ExitRates                  0.025000     0.048529      0.200000  \n",
       "PageValues                 0.000000     0.000000    361.763742  \n",
       "SpecialDay                 0.000000     0.000000      1.000000  "
      ]
     },
     "execution_count": 12,
     "metadata": {},
     "output_type": "execute_result"
    }
   ],
   "source": [
    "shopper_df.describe().drop(columns=['Revenue']).T"
   ]
  },
  {
   "cell_type": "markdown",
   "id": "f02d0340",
   "metadata": {},
   "source": [
    "3.2 Distribution of the Target Variable"
   ]
  },
  {
   "cell_type": "code",
   "execution_count": 13,
   "id": "2be292ca",
   "metadata": {},
   "outputs": [
    {
     "data": {
      "text/plain": [
       "0    10297\n",
       "1     1908\n",
       "Name: Revenue, dtype: int64"
      ]
     },
     "execution_count": 13,
     "metadata": {},
     "output_type": "execute_result"
    }
   ],
   "source": [
    "# check distribution of values for Revenue column\n",
    "# value 1: earned revenue\n",
    "# value 0: did not earn revenue\n",
    "shopper_df['Revenue'].value_counts()"
   ]
  },
  {
   "cell_type": "code",
   "execution_count": 14,
   "id": "1b13e484",
   "metadata": {},
   "outputs": [
    {
     "name": "stderr",
     "output_type": "stream",
     "text": [
      "C:\\Users\\Praveen Satya\\AppData\\Local\\Temp\\ipykernel_19012\\2198360524.py:2: FutureWarning: \n",
      "\n",
      "Passing `palette` without assigning `hue` is deprecated and will be removed in v0.14.0. Assign the `x` variable to `hue` and set `legend=False` for the same effect.\n",
      "\n",
      "  ax = sns.countplot(x='Revenue', data=shopper_df, palette='hls')\n"
     ]
    },
    {
     "data": {
      "image/png": "[encoded data removed]",
      "text/plain": [
       "<Figure size 432x288 with 1 Axes>"
      ]
     },
     "metadata": {
      "needs_background": "light"
     },
     "output_type": "display_data"
    }
   ],
   "source": [
    "# create the count plot\n",
    "ax = sns.countplot(x='Revenue', data=shopper_df, palette='hls')\n",
    "\n",
    "# calculate the percentages\n",
    "total = len(shopper_df)\n",
    "for p in ax.patches:\n",
    "    percentage = f\"{100 * p.get_height() / total:.2f}%\"  # calculate percentage\n",
    "    x = p.get_x() + p.get_width() / 2  # x-coordinate for text\n",
    "    y = p.get_height()  # y-coordinate for text\n",
    "    ax.annotate(percentage, (x, y), ha='center', va='bottom')  # annotate the bars\n",
    "\n",
    "# show the plot\n",
    "plt.title('Distribution of Revenue Classes with Percentages')\n",
    "plt.xlabel('Revenue')\n",
    "plt.ylabel('Count')\n",
    "plt.show()"
   ]
  },
  {
   "cell_type": "markdown",
   "id": "1600c47a",
   "metadata": {},
   "source": [
    "3.3 Correlation Between Predictor Variable and Target Variable (Revenue)"
   ]
  },
  {
   "cell_type": "code",
   "execution_count": 15,
   "id": "cfab37b9",
   "metadata": {},
   "outputs": [
    {
     "data": {
      "image/png": "[encoded data removed]",
      "text/plain": [
       "<Figure size 864x720 with 2 Axes>"
      ]
     },
     "metadata": {
      "needs_background": "light"
     },
     "output_type": "display_data"
    }
   ],
   "source": [
    "import seaborn as sns\n",
    "import matplotlib.pyplot as plt\n",
    "\n",
    "# Calculate the correlation matrix for all columns\n",
    "correlation_matrix = shopper_df.corr()\n",
    "\n",
    "# Display the correlation matrix\n",
    "plt.figure(figsize=(12, 10))\n",
    "sns.heatmap(correlation_matrix, annot=True, fmt=\".2f\", cmap=\"coolwarm\", cbar=True)\n",
    "plt.title(\"Correlation Matrix of All Variables\")\n",
    "plt.show()"
   ]
  },
  {
   "cell_type": "markdown",
   "id": "d3b20819",
   "metadata": {},
   "source": [
    "3.4 Distribution of Page Values"
   ]
  },
  {
   "cell_type": "code",
   "execution_count": 16,
   "id": "db3e0dfe",
   "metadata": {},
   "outputs": [
    {
     "data": {
      "image/png": "[encoded data removed]",
      "text/plain": [
       "<Figure size 864x432 with 1 Axes>"
      ]
     },
     "metadata": {
      "needs_background": "light"
     },
     "output_type": "display_data"
    }
   ],
   "source": [
    "# Group by PageValues and calculate the sum of Revenue\n",
    "revenue_by_page_values = shopper_df.groupby(\"PageValues\")[\"Revenue\"].sum().reset_index()\n",
    "\n",
    "# Create a bar chart\n",
    "plt.figure(figsize=(12, 6))\n",
    "plt.bar(revenue_by_page_values[\"PageValues\"], revenue_by_page_values[\"Revenue\"], color='blue', alpha=0.7)\n",
    "plt.xlabel(\"Page Values\")\n",
    "plt.ylabel(\"Sum of Revenue\")\n",
    "plt.title(\"Sum of Revenue vs Page Values\")\n",
    "plt.xticks(rotation=45)  # Rotate x-axis labels if necessary\n",
    "plt.tight_layout()\n",
    "plt.show()"
   ]
  },
  {
   "cell_type": "code",
   "execution_count": 17,
   "id": "f485936f",
   "metadata": {},
   "outputs": [
    {
     "name": "stdout",
     "output_type": "stream",
     "text": [
      "   PageValues PageValue_Binary\n",
      "0         0.0                0\n",
      "1         0.0                0\n",
      "2         0.0                0\n",
      "3         0.0                0\n",
      "4         0.0                0\n",
      "Column type: object\n"
     ]
    }
   ],
   "source": [
    "# Create a new column 'PageValue_Binary' as an object type\n",
    "shopper_df['PageValue_Binary'] = shopper_df['PageValues'].apply(lambda x: '1' if x != 0 else '0')\n",
    "\n",
    "# Verify the column type and values\n",
    "print(shopper_df[['PageValues', 'PageValue_Binary']].head())\n",
    "\n",
    "# drop PageValues\n",
    "shopper_df.drop(columns=['PageValues'], inplace=True)\n",
    "\n",
    "print(\"Column type:\", shopper_df['PageValue_Binary'].dtype)"
   ]
  },
  {
   "cell_type": "code",
   "execution_count": 18,
   "id": "28cf0914",
   "metadata": {},
   "outputs": [
    {
     "data": {
      "text/plain": [
       "0    9475\n",
       "1    2730\n",
       "Name: PageValue_Binary, dtype: int64"
      ]
     },
     "execution_count": 18,
     "metadata": {},
     "output_type": "execute_result"
    }
   ],
   "source": [
    "# distribution of PageValue_Binary\n",
    "shopper_df['PageValue_Binary'].value_counts()"
   ]
  },
  {
   "cell_type": "markdown",
   "id": "5e608986",
   "metadata": {},
   "source": [
    "3.5 Mean Feature Values for Revenue Classes"
   ]
  },
  {
   "cell_type": "code",
   "execution_count": 19,
   "id": "c4bac51d",
   "metadata": {
    "scrolled": true
   },
   "outputs": [],
   "source": [
    "# mean values of features for revenue classes\n",
    "mean_values = shopper_df[['Revenue', 'Administrative', 'Administrative_Duration',\n",
    "           'Informational', 'Informational_Duration', 'ProductRelated',\n",
    "           'ProductRelated_Duration', 'BounceRates', 'ExitRates',\n",
    "           'SpecialDay']].groupby('Revenue').mean()"
   ]
  },
  {
   "cell_type": "code",
   "execution_count": 20,
   "id": "b0793e47",
   "metadata": {},
   "outputs": [
    {
     "data": {
      "text/html": [
       "<div>\n",
       "<style scoped>\n",
       "    .dataframe tbody tr th:only-of-type {\n",
       "        vertical-align: middle;\n",
       "    }\n",
       "\n",
       "    .dataframe tbody tr th {\n",
       "        vertical-align: top;\n",
       "    }\n",
       "\n",
       "    .dataframe thead th {\n",
       "        text-align: right;\n",
       "    }\n",
       "</style>\n",
       "<table border=\"1\" class=\"dataframe\">\n",
       "  <thead>\n",
       "    <tr style=\"text-align: right;\">\n",
       "      <th>Revenue</th>\n",
       "      <th>0</th>\n",
       "      <th>1</th>\n",
       "    </tr>\n",
       "  </thead>\n",
       "  <tbody>\n",
       "    <tr>\n",
       "      <th>Administrative</th>\n",
       "      <td>2.143440</td>\n",
       "      <td>3.393606</td>\n",
       "    </tr>\n",
       "    <tr>\n",
       "      <th>Administrative_Duration</th>\n",
       "      <td>74.635276</td>\n",
       "      <td>119.483244</td>\n",
       "    </tr>\n",
       "    <tr>\n",
       "      <th>Informational</th>\n",
       "      <td>0.457318</td>\n",
       "      <td>0.786164</td>\n",
       "    </tr>\n",
       "    <tr>\n",
       "      <th>Informational_Duration</th>\n",
       "      <td>30.603289</td>\n",
       "      <td>57.611427</td>\n",
       "    </tr>\n",
       "    <tr>\n",
       "      <th>ProductRelated</th>\n",
       "      <td>29.050403</td>\n",
       "      <td>48.210168</td>\n",
       "    </tr>\n",
       "    <tr>\n",
       "      <th>ProductRelated_Duration</th>\n",
       "      <td>1082.976881</td>\n",
       "      <td>1876.209615</td>\n",
       "    </tr>\n",
       "    <tr>\n",
       "      <th>BounceRates</th>\n",
       "      <td>0.023197</td>\n",
       "      <td>0.005117</td>\n",
       "    </tr>\n",
       "    <tr>\n",
       "      <th>ExitRates</th>\n",
       "      <td>0.045526</td>\n",
       "      <td>0.019555</td>\n",
       "    </tr>\n",
       "    <tr>\n",
       "      <th>SpecialDay</th>\n",
       "      <td>0.069127</td>\n",
       "      <td>0.023166</td>\n",
       "    </tr>\n",
       "  </tbody>\n",
       "</table>\n",
       "</div>"
      ],
      "text/plain": [
       "Revenue                            0            1\n",
       "Administrative              2.143440     3.393606\n",
       "Administrative_Duration    74.635276   119.483244\n",
       "Informational               0.457318     0.786164\n",
       "Informational_Duration     30.603289    57.611427\n",
       "ProductRelated             29.050403    48.210168\n",
       "ProductRelated_Duration  1082.976881  1876.209615\n",
       "BounceRates                 0.023197     0.005117\n",
       "ExitRates                   0.045526     0.019555\n",
       "SpecialDay                  0.069127     0.023166"
      ]
     },
     "execution_count": 20,
     "metadata": {},
     "output_type": "execute_result"
    }
   ],
   "source": [
    "# Transpose the DataFrame\n",
    "vertical_table = mean_values.T\n",
    "vertical_table"
   ]
  },
  {
   "cell_type": "markdown",
   "id": "52849a4e",
   "metadata": {},
   "source": [
    "3.6 Mean Feature Values for Visitor Types"
   ]
  },
  {
   "cell_type": "code",
   "execution_count": 21,
   "id": "2d6dc73c",
   "metadata": {
    "scrolled": true
   },
   "outputs": [
    {
     "data": {
      "text/html": [
       "<div>\n",
       "<style scoped>\n",
       "    .dataframe tbody tr th:only-of-type {\n",
       "        vertical-align: middle;\n",
       "    }\n",
       "\n",
       "    .dataframe tbody tr th {\n",
       "        vertical-align: top;\n",
       "    }\n",
       "\n",
       "    .dataframe thead th {\n",
       "        text-align: right;\n",
       "    }\n",
       "</style>\n",
       "<table border=\"1\" class=\"dataframe\">\n",
       "  <thead>\n",
       "    <tr style=\"text-align: right;\">\n",
       "      <th>VisitorType</th>\n",
       "      <th>New_Visitor</th>\n",
       "      <th>Other</th>\n",
       "      <th>Returning_Visitor</th>\n",
       "    </tr>\n",
       "  </thead>\n",
       "  <tbody>\n",
       "    <tr>\n",
       "      <th>Administrative</th>\n",
       "      <td>2.553455</td>\n",
       "      <td>1.543210</td>\n",
       "      <td>2.310229</td>\n",
       "    </tr>\n",
       "    <tr>\n",
       "      <th>Administrative_Duration</th>\n",
       "      <td>91.965604</td>\n",
       "      <td>65.791667</td>\n",
       "      <td>80.094581</td>\n",
       "    </tr>\n",
       "    <tr>\n",
       "      <th>Informational</th>\n",
       "      <td>0.333727</td>\n",
       "      <td>0.185185</td>\n",
       "      <td>0.539641</td>\n",
       "    </tr>\n",
       "    <tr>\n",
       "      <th>Informational_Duration</th>\n",
       "      <td>19.248835</td>\n",
       "      <td>12.262551</td>\n",
       "      <td>37.528820</td>\n",
       "    </tr>\n",
       "    <tr>\n",
       "      <th>ProductRelated</th>\n",
       "      <td>18.064973</td>\n",
       "      <td>13.037037</td>\n",
       "      <td>34.462372</td>\n",
       "    </tr>\n",
       "    <tr>\n",
       "      <th>ProductRelated_Duration</th>\n",
       "      <td>636.769251</td>\n",
       "      <td>598.573004</td>\n",
       "      <td>1304.255214</td>\n",
       "    </tr>\n",
       "    <tr>\n",
       "      <th>BounceRates</th>\n",
       "      <td>0.005146</td>\n",
       "      <td>0.030579</td>\n",
       "      <td>0.022762</td>\n",
       "    </tr>\n",
       "    <tr>\n",
       "      <th>ExitRates</th>\n",
       "      <td>0.020575</td>\n",
       "      <td>0.056600</td>\n",
       "      <td>0.044739</td>\n",
       "    </tr>\n",
       "    <tr>\n",
       "      <th>SpecialDay</th>\n",
       "      <td>0.020201</td>\n",
       "      <td>0.000000</td>\n",
       "      <td>0.069198</td>\n",
       "    </tr>\n",
       "  </tbody>\n",
       "</table>\n",
       "</div>"
      ],
      "text/plain": [
       "VisitorType              New_Visitor       Other  Returning_Visitor\n",
       "Administrative              2.553455    1.543210           2.310229\n",
       "Administrative_Duration    91.965604   65.791667          80.094581\n",
       "Informational               0.333727    0.185185           0.539641\n",
       "Informational_Duration     19.248835   12.262551          37.528820\n",
       "ProductRelated             18.064973   13.037037          34.462372\n",
       "ProductRelated_Duration   636.769251  598.573004        1304.255214\n",
       "BounceRates                 0.005146    0.030579           0.022762\n",
       "ExitRates                   0.020575    0.056600           0.044739\n",
       "SpecialDay                  0.020201    0.000000           0.069198"
      ]
     },
     "execution_count": 21,
     "metadata": {},
     "output_type": "execute_result"
    }
   ],
   "source": [
    "# mean values of features for different visitor types\n",
    "shopper_df[['VisitorType', 'Administrative', 'Administrative_Duration',\n",
    "           'Informational', 'Informational_Duration', 'ProductRelated',\n",
    "           'ProductRelated_Duration', 'BounceRates', 'ExitRates',\n",
    "           'SpecialDay']].groupby('VisitorType').mean().T"
   ]
  },
  {
   "cell_type": "markdown",
   "id": "04207221",
   "metadata": {},
   "source": [
    "3.7 Mean Feature Values for Weekend and Non-Weekend"
   ]
  },
  {
   "cell_type": "code",
   "execution_count": 22,
   "id": "1d106bef",
   "metadata": {
    "scrolled": true
   },
   "outputs": [
    {
     "data": {
      "text/html": [
       "<div>\n",
       "<style scoped>\n",
       "    .dataframe tbody tr th:only-of-type {\n",
       "        vertical-align: middle;\n",
       "    }\n",
       "\n",
       "    .dataframe tbody tr th {\n",
       "        vertical-align: top;\n",
       "    }\n",
       "\n",
       "    .dataframe thead th {\n",
       "        text-align: right;\n",
       "    }\n",
       "</style>\n",
       "<table border=\"1\" class=\"dataframe\">\n",
       "  <thead>\n",
       "    <tr style=\"text-align: right;\">\n",
       "      <th>Weekend</th>\n",
       "      <th>False</th>\n",
       "      <th>True</th>\n",
       "    </tr>\n",
       "  </thead>\n",
       "  <tbody>\n",
       "    <tr>\n",
       "      <th>Administrative</th>\n",
       "      <td>2.294993</td>\n",
       "      <td>2.482336</td>\n",
       "    </tr>\n",
       "    <tr>\n",
       "      <th>Administrative_Duration</th>\n",
       "      <td>80.344730</td>\n",
       "      <td>85.901232</td>\n",
       "    </tr>\n",
       "    <tr>\n",
       "      <th>Informational</th>\n",
       "      <td>0.484485</td>\n",
       "      <td>0.587968</td>\n",
       "    </tr>\n",
       "    <tr>\n",
       "      <th>Informational_Duration</th>\n",
       "      <td>33.011342</td>\n",
       "      <td>40.755741</td>\n",
       "    </tr>\n",
       "    <tr>\n",
       "      <th>ProductRelated</th>\n",
       "      <td>31.713246</td>\n",
       "      <td>33.132214</td>\n",
       "    </tr>\n",
       "    <tr>\n",
       "      <th>ProductRelated_Duration</th>\n",
       "      <td>1201.777530</td>\n",
       "      <td>1223.997236</td>\n",
       "    </tr>\n",
       "    <tr>\n",
       "      <th>BounceRates</th>\n",
       "      <td>0.021242</td>\n",
       "      <td>0.017522</td>\n",
       "    </tr>\n",
       "    <tr>\n",
       "      <th>ExitRates</th>\n",
       "      <td>0.042820</td>\n",
       "      <td>0.037037</td>\n",
       "    </tr>\n",
       "    <tr>\n",
       "      <th>SpecialDay</th>\n",
       "      <td>0.063899</td>\n",
       "      <td>0.055544</td>\n",
       "    </tr>\n",
       "  </tbody>\n",
       "</table>\n",
       "</div>"
      ],
      "text/plain": [
       "Weekend                        False         True\n",
       "Administrative              2.294993     2.482336\n",
       "Administrative_Duration    80.344730    85.901232\n",
       "Informational               0.484485     0.587968\n",
       "Informational_Duration     33.011342    40.755741\n",
       "ProductRelated             31.713246    33.132214\n",
       "ProductRelated_Duration  1201.777530  1223.997236\n",
       "BounceRates                 0.021242     0.017522\n",
       "ExitRates                   0.042820     0.037037\n",
       "SpecialDay                  0.063899     0.055544"
      ]
     },
     "execution_count": 22,
     "metadata": {},
     "output_type": "execute_result"
    }
   ],
   "source": [
    "# mean values of features for weekend and non-weekend\n",
    "shopper_df[['Weekend', 'Administrative', 'Administrative_Duration',\n",
    "           'Informational', 'Informational_Duration', 'ProductRelated',\n",
    "           'ProductRelated_Duration', 'BounceRates', 'ExitRates',\n",
    "           'SpecialDay']].groupby('Weekend').mean().T"
   ]
  },
  {
   "cell_type": "markdown",
   "id": "def375e3",
   "metadata": {},
   "source": [
    "# 4. Visualizations"
   ]
  },
  {
   "cell_type": "markdown",
   "id": "8448b0fe",
   "metadata": {},
   "source": [
    "4.1 Monthly Trend of Revenue"
   ]
  },
  {
   "cell_type": "code",
   "execution_count": 23,
   "id": "d2a74c20",
   "metadata": {},
   "outputs": [
    {
     "data": {
      "image/png": "[encoded data removed]",
      "text/plain": [
       "<Figure size 432x288 with 1 Axes>"
      ]
     },
     "metadata": {
      "needs_background": "light"
     },
     "output_type": "display_data"
    }
   ],
   "source": [
    "month_category_count = shopper_df.groupby(['Month', 'Revenue']).size().unstack()\n",
    "\n",
    "# Specify the desired order of index values\n",
    "desired_order = ['Feb', 'Mar', 'May', 'June', 'Jul', 'Aug', 'Sep', 'Oct', 'Nov', 'Dec']\n",
    "\n",
    "# Reindex with the desired order\n",
    "month_category_count = month_category_count.reindex(desired_order)\n",
    "\n",
    "month_category_count.plot(kind='line', stacked=False)\n",
    "\n",
    "# Adding title and labels\n",
    "plt.title('Revenue Trend')\n",
    "plt.xlabel('Month')\n",
    "plt.ylabel('Count')\n",
    "\n",
    "# Display the plot\n",
    "plt.show()"
   ]
  },
  {
   "cell_type": "markdown",
   "id": "d7fa30a7",
   "metadata": {},
   "source": [
    "4.2 Share of Revenue By Visitor Type"
   ]
  },
  {
   "cell_type": "code",
   "execution_count": 24,
   "id": "d8123192",
   "metadata": {},
   "outputs": [
    {
     "data": {
      "image/png": "[encoded data removed]",
      "text/plain": [
       "<Figure size 432x432 with 1 Axes>"
      ]
     },
     "metadata": {},
     "output_type": "display_data"
    }
   ],
   "source": [
    "true_revenue = shopper_df[shopper_df['Revenue']==True].groupby(['VisitorType']).size()\n",
    "\n",
    "# Plot\n",
    "plt.figure(figsize=(6, 6))\n",
    "plt.pie(true_revenue.values, labels=true_revenue.index, autopct='%1.1f%%', startangle=140)\n",
    "\n",
    "plt.axis('equal')\n",
    "plt.title('True Revenue by Visitor Type')\n",
    "\n",
    "plt.show()"
   ]
  },
  {
   "cell_type": "markdown",
   "id": "fe32f6e7",
   "metadata": {},
   "source": [
    "# 5. Create dummy variables"
   ]
  },
  {
   "cell_type": "code",
   "execution_count": 25,
   "id": "d5507449",
   "metadata": {
    "scrolled": true
   },
   "outputs": [
    {
     "name": "stderr",
     "output_type": "stream",
     "text": [
      "c:\\Users\\Praveen Satya\\AppData\\Local\\Programs\\Python\\Python310\\lib\\site-packages\\pandas\\core\\algorithms.py:798: FutureWarning: In a future version, the Index constructor will not infer numeric dtypes when passed object-dtype sequences (matching Series behavior)\n",
      "  uniques = Index(uniques)\n",
      "c:\\Users\\Praveen Satya\\AppData\\Local\\Programs\\Python\\Python310\\lib\\site-packages\\pandas\\core\\algorithms.py:798: FutureWarning: In a future version, the Index constructor will not infer numeric dtypes when passed object-dtype sequences (matching Series behavior)\n",
      "  uniques = Index(uniques)\n",
      "c:\\Users\\Praveen Satya\\AppData\\Local\\Programs\\Python\\Python310\\lib\\site-packages\\pandas\\core\\algorithms.py:798: FutureWarning: In a future version, the Index constructor will not infer numeric dtypes when passed object-dtype sequences (matching Series behavior)\n",
      "  uniques = Index(uniques)\n",
      "c:\\Users\\Praveen Satya\\AppData\\Local\\Programs\\Python\\Python310\\lib\\site-packages\\pandas\\core\\algorithms.py:798: FutureWarning: In a future version, the Index constructor will not infer numeric dtypes when passed object-dtype sequences (matching Series behavior)\n",
      "  uniques = Index(uniques)\n"
     ]
    }
   ],
   "source": [
    "# create dummy variables\n",
    "cat_vars=['OperatingSystems','Browser', 'Region', 'TrafficType', 'VisitorType', 'Weekend', 'Month', 'PageValue_Binary']\n",
    "for var in cat_vars:\n",
    "    cat_list='var'+'_'+var\n",
    "    cat_list = pd.get_dummies(shopper_df[var], prefix=var)\n",
    "    shopper_df1 = shopper_df.join(cat_list)\n",
    "    shopper_df=shopper_df1\n",
    "\n",
    "data_vars = shopper_df.columns.values.tolist()\n",
    "to_keep = [i for i in data_vars if i not in cat_vars]\n",
    "\n",
    "# drop original columns\n",
    "shopper_df = shopper_df.drop(columns=['OperatingSystems','Browser', 'Region', 'TrafficType', 'VisitorType', 'Weekend', 'Month', 'PageValue_Binary'])"
   ]
  },
  {
   "cell_type": "code",
   "execution_count": 26,
   "id": "facfd6c4",
   "metadata": {
    "scrolled": true
   },
   "outputs": [
    {
     "data": {
      "text/plain": [
       "array(['Administrative', 'Administrative_Duration', 'Informational',\n",
       "       'Informational_Duration', 'ProductRelated',\n",
       "       'ProductRelated_Duration', 'BounceRates', 'ExitRates',\n",
       "       'SpecialDay', 'Revenue', 'OperatingSystems_1',\n",
       "       'OperatingSystems_2', 'OperatingSystems_3', 'OperatingSystems_4',\n",
       "       'OperatingSystems_5', 'OperatingSystems_6', 'OperatingSystems_7',\n",
       "       'OperatingSystems_8', 'Browser_1', 'Browser_2', 'Browser_3',\n",
       "       'Browser_4', 'Browser_5', 'Browser_6', 'Browser_7', 'Browser_8',\n",
       "       'Browser_9', 'Browser_10', 'Browser_11', 'Browser_12',\n",
       "       'Browser_13', 'Region_1', 'Region_2', 'Region_3', 'Region_4',\n",
       "       'Region_5', 'Region_6', 'Region_7', 'Region_8', 'Region_9',\n",
       "       'TrafficType_1', 'TrafficType_2', 'TrafficType_3', 'TrafficType_4',\n",
       "       'TrafficType_5', 'TrafficType_6', 'TrafficType_7', 'TrafficType_8',\n",
       "       'TrafficType_9', 'TrafficType_10', 'TrafficType_11',\n",
       "       'TrafficType_12', 'TrafficType_13', 'TrafficType_14',\n",
       "       'TrafficType_15', 'TrafficType_16', 'TrafficType_17',\n",
       "       'TrafficType_18', 'TrafficType_19', 'TrafficType_20',\n",
       "       'VisitorType_New_Visitor', 'VisitorType_Other',\n",
       "       'VisitorType_Returning_Visitor', 'Weekend_False', 'Weekend_True',\n",
       "       'Month_Aug', 'Month_Dec', 'Month_Feb', 'Month_Jul', 'Month_June',\n",
       "       'Month_Mar', 'Month_May', 'Month_Nov', 'Month_Oct', 'Month_Sep',\n",
       "       'PageValue_Binary_0', 'PageValue_Binary_1'], dtype=object)"
      ]
     },
     "execution_count": 26,
     "metadata": {},
     "output_type": "execute_result"
    }
   ],
   "source": [
    "shopper_df = shopper_df[to_keep]\n",
    "shopper_df.columns.values"
   ]
  },
  {
   "cell_type": "markdown",
   "id": "bf477082",
   "metadata": {},
   "source": [
    "# 6. Over-sampling using SMOTE"
   ]
  },
  {
   "cell_type": "code",
   "execution_count": 27,
   "id": "e21aecc5",
   "metadata": {
    "scrolled": true
   },
   "outputs": [
    {
     "name": "stdout",
     "output_type": "stream",
     "text": [
      "Length of oversampled data is :  14388\n",
      "Number of no Revenue in oversampled data :  7194\n",
      "Number of Revenue :  7194\n",
      "Proportion of Revenue in oversampled data is :  7194\n"
     ]
    }
   ],
   "source": [
    "X = shopper_df.loc[:, shopper_df.columns != 'Revenue']\n",
    "y = shopper_df.loc[:, shopper_df.columns == 'Revenue']\n",
    "\n",
    "os = SMOTE(random_state=0)\n",
    "X_train, X_test, y_train, y_test = train_test_split(X, y, test_size=0.3, random_state=0)\n",
    "columns = X_train.columns\n",
    "\n",
    "os_data_X, os_data_y = os.fit_resample(X_train, y_train)\n",
    "os_data_X = pd.DataFrame(data=os_data_X, columns=columns)\n",
    "os_data_y = pd.DataFrame(data=os_data_y, columns=['Revenue'])\n",
    "\n",
    "print(\"Length of oversampled data is : \", len(os_data_X))\n",
    "print(\"Number of no Revenue in oversampled data : \", len(os_data_y[os_data_y['Revenue']==0]))\n",
    "print(\"Number of Revenue : \", len(os_data_y[os_data_y['Revenue']==1]))\n",
    "print(\"Proportion of Revenue in oversampled data is : \", len(os_data_y[os_data_y['Revenue']==1]/len(os_data_X)))"
   ]
  },
  {
   "cell_type": "markdown",
   "id": "1ecdf014",
   "metadata": {},
   "source": [
    "# 7. Recursive Feature Elimination"
   ]
  },
  {
   "cell_type": "code",
   "execution_count": 28,
   "id": "8630a736",
   "metadata": {},
   "outputs": [
    {
     "name": "stderr",
     "output_type": "stream",
     "text": [
      "c:\\Users\\Praveen Satya\\AppData\\Local\\Programs\\Python\\Python310\\lib\\site-packages\\sklearn\\linear_model\\_logistic.py:458: ConvergenceWarning: lbfgs failed to converge (status=1):\n",
      "STOP: TOTAL NO. of ITERATIONS REACHED LIMIT.\n",
      "\n",
      "Increase the number of iterations (max_iter) or scale the data as shown in:\n",
      "    https://scikit-learn.org/stable/modules/preprocessing.html\n",
      "Please also refer to the documentation for alternative solver options:\n",
      "    https://scikit-learn.org/stable/modules/linear_model.html#logistic-regression\n",
      "  n_iter_i = _check_optimize_result(\n",
      "c:\\Users\\Praveen Satya\\AppData\\Local\\Programs\\Python\\Python310\\lib\\site-packages\\sklearn\\linear_model\\_logistic.py:458: ConvergenceWarning: lbfgs failed to converge (status=1):\n",
      "STOP: TOTAL NO. of ITERATIONS REACHED LIMIT.\n",
      "\n",
      "Increase the number of iterations (max_iter) or scale the data as shown in:\n",
      "    https://scikit-learn.org/stable/modules/preprocessing.html\n",
      "Please also refer to the documentation for alternative solver options:\n",
      "    https://scikit-learn.org/stable/modules/linear_model.html#logistic-regression\n",
      "  n_iter_i = _check_optimize_result(\n"
     ]
    },
    {
     "name": "stdout",
     "output_type": "stream",
     "text": [
      "[False False False False False False  True  True False  True  True  True\n",
      "  True False False False  True False False False False False  True  True\n",
      " False False False False False False  True  True  True  True  True  True\n",
      "  True  True  True  True False  True  True False  True False False False\n",
      "  True False False  True False False False False False False False False\n",
      "  True  True  True  True  True  True  True  True  True  True  True False\n",
      "  True  True  True False]\n",
      "[2 3 2 3 3 3 1 1 2 1 1 1 1 3 3 3 1 2 2 2 2 2 1 1 2 3 2 3 3 3 1 1 1 1 1 1 1\n",
      " 1 1 1 2 1 1 2 1 3 2 3 1 2 3 1 3 3 3 3 3 3 2 2 1 1 1 1 1 1 1 1 1 1 1 2 1 1\n",
      " 1 2]\n"
     ]
    }
   ],
   "source": [
    "data_final_vars = shopper_df.columns.values.tolist()\n",
    "y=['y']\n",
    "X=[i for i in data_final_vars if i not in y]\n",
    "\n",
    "logreg = LogisticRegression()\n",
    "\n",
    "rfe = RFE(logreg, step = 20)\n",
    "rfe = rfe.fit(os_data_X, os_data_y.values.ravel())\n",
    "print(rfe.support_)\n",
    "print(rfe.ranking_)"
   ]
  },
  {
   "cell_type": "code",
   "execution_count": 29,
   "id": "9b99f181",
   "metadata": {
    "scrolled": true
   },
   "outputs": [
    {
     "data": {
      "text/plain": [
       "array(['BounceRates', 'ExitRates', 'OperatingSystems_1',\n",
       "       'OperatingSystems_2', 'OperatingSystems_3', 'OperatingSystems_4',\n",
       "       'OperatingSystems_8', 'Browser_6', 'Browser_7', 'Region_1',\n",
       "       'Region_2', 'Region_3', 'Region_4', 'Region_5', 'Region_6',\n",
       "       'Region_7', 'Region_8', 'Region_9', 'TrafficType_1',\n",
       "       'TrafficType_3', 'TrafficType_4', 'TrafficType_6',\n",
       "       'TrafficType_10', 'TrafficType_13', 'VisitorType_Other',\n",
       "       'VisitorType_Returning_Visitor', 'Weekend_False', 'Weekend_True',\n",
       "       'Month_Aug', 'Month_Dec', 'Month_Feb', 'Month_Jul', 'Month_June',\n",
       "       'Month_Mar', 'Month_May', 'Month_Oct', 'Month_Sep',\n",
       "       'PageValue_Binary_0'], dtype=object)"
      ]
     },
     "execution_count": 29,
     "metadata": {},
     "output_type": "execute_result"
    }
   ],
   "source": [
    "rfe.get_feature_names_out()"
   ]
  },
  {
   "cell_type": "code",
   "execution_count": 30,
   "id": "1c2cd7fc",
   "metadata": {},
   "outputs": [],
   "source": [
    "cols=['BounceRates', 'ExitRates', 'OperatingSystems_1',\n",
    "       'OperatingSystems_2', 'OperatingSystems_3', 'OperatingSystems_4',\n",
    "       'OperatingSystems_8', 'Browser_6', 'Browser_7', 'Region_1',\n",
    "       'Region_2', 'Region_3', 'Region_4', 'Region_5', 'Region_6',\n",
    "       'Region_7', 'Region_8', 'Region_9', 'TrafficType_1',\n",
    "       'TrafficType_3', 'TrafficType_4', 'TrafficType_6',\n",
    "       'TrafficType_10', 'TrafficType_13', 'VisitorType_Other',\n",
    "       'VisitorType_Returning_Visitor', 'Weekend_False', 'Weekend_True',\n",
    "       'Month_Aug', 'Month_Dec', 'Month_Feb', 'Month_Jul', 'Month_June',\n",
    "       'Month_Mar', 'Month_May', 'Month_Oct', 'Month_Sep',\n",
    "       'PageValue_Binary_0']\n",
    "X=os_data_X[cols]\n",
    "y=os_data_y['Revenue']"
   ]
  },
  {
   "cell_type": "markdown",
   "id": "4a637123",
   "metadata": {},
   "source": [
    "# 8. Implementing the model"
   ]
  },
  {
   "cell_type": "code",
   "execution_count": 31,
   "id": "9aed7238",
   "metadata": {},
   "outputs": [
    {
     "name": "stdout",
     "output_type": "stream",
     "text": [
      "Optimization terminated successfully.\n",
      "         Current function value: 0.304277\n",
      "         Iterations 8\n",
      "                                 Results: Logit\n",
      "=================================================================================\n",
      "Model:                     Logit                 Method:                MLE      \n",
      "Dependent Variable:        Revenue               Pseudo R-squared:      0.561    \n",
      "Date:                      2024-12-24 09:19      AIC:                   8831.8786\n",
      "No. Observations:          14388                 BIC:                   9119.6962\n",
      "Df Model:                  37                    Log-Likelihood:        -4377.9  \n",
      "Df Residuals:              14350                 LL-Null:               -9973.0  \n",
      "Converged:                 1.0000                LLR p-value:           0.0000   \n",
      "No. Iterations:            8.0000                Scale:                 1.0000   \n",
      "---------------------------------------------------------------------------------\n",
      "                               Coef.   Std.Err.    z     P>|z|   [0.025   0.975] \n",
      "---------------------------------------------------------------------------------\n",
      "BounceRates                   -30.4371   2.1202 -14.3556 0.0000 -34.5927 -26.2816\n",
      "ExitRates                      29.4674   1.6195  18.1959 0.0000  26.2933  32.6414\n",
      "OperatingSystems_1              0.2084   0.1034   2.0152 0.0439   0.0057   0.4111\n",
      "OperatingSystems_2              0.5851   0.0747   7.8353 0.0000   0.4387   0.7314\n",
      "OperatingSystems_3             -0.0659   0.1145  -0.5752 0.5651  -0.2904   0.1586\n",
      "OperatingSystems_4              0.0324   0.2032   0.1596 0.8732  -0.3659   0.4308\n",
      "OperatingSystems_8              1.3731   0.6175   2.2236 0.0262   0.1628   2.5834\n",
      "Browser_6                      -1.0568   0.3353  -3.1520 0.0016  -1.7140  -0.3997\n",
      "Browser_7                      -1.9336   0.7093  -2.7260 0.0064  -3.3238  -0.5434\n",
      "Region_1                       -0.7564   0.0822  -9.2028 0.0000  -0.9175  -0.5953\n",
      "Region_2                       -1.5119   0.1413 -10.6974 0.0000  -1.7889  -1.2349\n",
      "Region_3                       -1.4312   0.1064 -13.4493 0.0000  -1.6397  -1.2226\n",
      "Region_4                       -1.6354   0.1468 -11.1431 0.0000  -1.9231  -1.3478\n",
      "Region_5                       -1.4997   0.2402  -6.2440 0.0000  -1.9704  -1.0290\n",
      "Region_6                       -1.3428   0.1699  -7.9027 0.0000  -1.6759  -1.0098\n",
      "Region_7                       -1.9244   0.1763 -10.9181 0.0000  -2.2698  -1.5789\n",
      "Region_8                       -1.3758   0.2295  -5.9951 0.0000  -1.8256  -0.9260\n",
      "Region_9                       -1.6924   0.2104  -8.0421 0.0000  -2.1048  -1.2799\n",
      "TrafficType_1                  -1.6992   0.0998 -17.0220 0.0000  -1.8949  -1.5036\n",
      "TrafficType_3                  -1.4406   0.1117 -12.8968 0.0000  -1.6596  -1.2217\n",
      "TrafficType_4                  -0.8550   0.1335  -6.4055 0.0000  -1.1166  -0.5934\n",
      "TrafficType_6                  -1.6755   0.2200  -7.6151 0.0000  -2.1067  -1.2442\n",
      "TrafficType_10                 -1.5001   0.1967  -7.6271 0.0000  -1.8856  -1.1146\n",
      "TrafficType_13                 -2.5848   0.2395 -10.7908 0.0000  -3.0543  -2.1153\n",
      "VisitorType_Other              -0.3226   0.6551  -0.4925 0.6224  -1.6065   0.9613\n",
      "VisitorType_Returning_Visitor   1.1957   0.0617  19.3736 0.0000   1.0747   1.3167\n",
      "Weekend_False                   2.0784   0.0753  27.6134 0.0000   1.9309   2.2260\n",
      "Weekend_True                    1.8680   0.1012  18.4561 0.0000   1.6697   2.0664\n",
      "Month_Aug                      -1.2494   0.1971  -6.3380 0.0000  -1.6357  -0.8630\n",
      "Month_Dec                      -1.5076   0.1098 -13.7323 0.0000  -1.7228  -1.2925\n",
      "Month_Feb                      -3.4360   0.7555  -4.5480 0.0000  -4.9167  -1.9553\n",
      "Month_Jul                      -1.1383   0.2054  -5.5409 0.0000  -1.5410  -0.7357\n",
      "Month_June                     -1.9063   0.2857  -6.6730 0.0000  -2.4662  -1.3464\n",
      "Month_Mar                      -1.5698   0.1124 -13.9630 0.0000  -1.7902  -1.3494\n",
      "Month_May                      -1.6503   0.0902 -18.3051 0.0000  -1.8270  -1.4736\n",
      "Month_Oct                      -1.3684   0.1711  -7.9956 0.0000  -1.7038  -1.0330\n",
      "Month_Sep                      -0.9967   0.1838  -5.4229 0.0000  -1.3570  -0.6365\n",
      "PageValue_Binary_0             -3.9396   0.0752 -52.4105 0.0000  -4.0869  -3.7922\n",
      "=================================================================================\n",
      "\n"
     ]
    }
   ],
   "source": [
    "logit_model = sm.Logit(y,X)\n",
    "result = logit_model.fit()\n",
    "print(result.summary2())"
   ]
  },
  {
   "cell_type": "markdown",
   "id": "36eee2bb",
   "metadata": {},
   "source": [
    "# 9. Logistic Regression Model Fitting (Oversampled)"
   ]
  },
  {
   "cell_type": "code",
   "execution_count": 32,
   "id": "4750c3d8",
   "metadata": {},
   "outputs": [
    {
     "data": {
      "text/html": [
       "<style>#sk-container-id-1 {color: black;background-color: white;}#sk-container-id-1 pre{padding: 0;}#sk-container-id-1 div.sk-toggleable {background-color: white;}#sk-container-id-1 label.sk-toggleable__label {cursor: pointer;display: block;width: 100%;margin-bottom: 0;padding: 0.3em;box-sizing: border-box;text-align: center;}#sk-container-id-1 label.sk-toggleable__label-arrow:before {content: \"▸\";float: left;margin-right: 0.25em;color: #696969;}#sk-container-id-1 label.sk-toggleable__label-arrow:hover:before {color: black;}#sk-container-id-1 div.sk-estimator:hover label.sk-toggleable__label-arrow:before {color: black;}#sk-container-id-1 div.sk-toggleable__content {max-height: 0;max-width: 0;overflow: hidden;text-align: left;background-color: #f0f8ff;}#sk-container-id-1 div.sk-toggleable__content pre {margin: 0.2em;color: black;border-radius: 0.25em;background-color: #f0f8ff;}#sk-container-id-1 input.sk-toggleable__control:checked~div.sk-toggleable__content {max-height: 200px;max-width: 100%;overflow: auto;}#sk-container-id-1 input.sk-toggleable__control:checked~label.sk-toggleable__label-arrow:before {content: \"▾\";}#sk-container-id-1 div.sk-estimator input.sk-toggleable__control:checked~label.sk-toggleable__label {background-color: #d4ebff;}#sk-container-id-1 div.sk-label input.sk-toggleable__control:checked~label.sk-toggleable__label {background-color: #d4ebff;}#sk-container-id-1 input.sk-hidden--visually {border: 0;clip: rect(1px 1px 1px 1px);clip: rect(1px, 1px, 1px, 1px);height: 1px;margin: -1px;overflow: hidden;padding: 0;position: absolute;width: 1px;}#sk-container-id-1 div.sk-estimator {font-family: monospace;background-color: #f0f8ff;border: 1px dotted black;border-radius: 0.25em;box-sizing: border-box;margin-bottom: 0.5em;}#sk-container-id-1 div.sk-estimator:hover {background-color: #d4ebff;}#sk-container-id-1 div.sk-parallel-item::after {content: \"\";width: 100%;border-bottom: 1px solid gray;flex-grow: 1;}#sk-container-id-1 div.sk-label:hover label.sk-toggleable__label {background-color: #d4ebff;}#sk-container-id-1 div.sk-serial::before {content: \"\";position: absolute;border-left: 1px solid gray;box-sizing: border-box;top: 0;bottom: 0;left: 50%;z-index: 0;}#sk-container-id-1 div.sk-serial {display: flex;flex-direction: column;align-items: center;background-color: white;padding-right: 0.2em;padding-left: 0.2em;position: relative;}#sk-container-id-1 div.sk-item {position: relative;z-index: 1;}#sk-container-id-1 div.sk-parallel {display: flex;align-items: stretch;justify-content: center;background-color: white;position: relative;}#sk-container-id-1 div.sk-item::before, #sk-container-id-1 div.sk-parallel-item::before {content: \"\";position: absolute;border-left: 1px solid gray;box-sizing: border-box;top: 0;bottom: 0;left: 50%;z-index: -1;}#sk-container-id-1 div.sk-parallel-item {display: flex;flex-direction: column;z-index: 1;position: relative;background-color: white;}#sk-container-id-1 div.sk-parallel-item:first-child::after {align-self: flex-end;width: 50%;}#sk-container-id-1 div.sk-parallel-item:last-child::after {align-self: flex-start;width: 50%;}#sk-container-id-1 div.sk-parallel-item:only-child::after {width: 0;}#sk-container-id-1 div.sk-dashed-wrapped {border: 1px dashed gray;margin: 0 0.4em 0.5em 0.4em;box-sizing: border-box;padding-bottom: 0.4em;background-color: white;}#sk-container-id-1 div.sk-label label {font-family: monospace;font-weight: bold;display: inline-block;line-height: 1.2em;}#sk-container-id-1 div.sk-label-container {text-align: center;}#sk-container-id-1 div.sk-container {/* jupyter's `normalize.less` sets `[hidden] { display: none; }` but bootstrap.min.css set `[hidden] { display: none !important; }` so we also need the `!important` here to be able to override the default hidden behavior on the sphinx rendered scikit-learn.org. See: https://github.com/scikit-learn/scikit-learn/issues/21755 */display: inline-block !important;position: relative;}#sk-container-id-1 div.sk-text-repr-fallback {display: none;}</style><div id=\"sk-container-id-1\" class=\"sk-top-container\"><div class=\"sk-text-repr-fallback\"><pre>LogisticRegression()</pre><b>In a Jupyter environment, please rerun this cell to show the HTML representation or trust the notebook. <br />On GitHub, the HTML representation is unable to render, please try loading this page with nbviewer.org.</b></div><div class=\"sk-container\" hidden><div class=\"sk-item\"><div class=\"sk-estimator sk-toggleable\"><input class=\"sk-toggleable__control sk-hidden--visually\" id=\"sk-estimator-id-1\" type=\"checkbox\" checked><label for=\"sk-estimator-id-1\" class=\"sk-toggleable__label sk-toggleable__label-arrow\">LogisticRegression</label><div class=\"sk-toggleable__content\"><pre>LogisticRegression()</pre></div></div></div></div></div>"
      ],
      "text/plain": [
       "LogisticRegression()"
      ]
     },
     "execution_count": 32,
     "metadata": {},
     "output_type": "execute_result"
    }
   ],
   "source": [
    "X_train, X_test, y_train, y_test = train_test_split(X, y, test_size=0.3, random_state=0)\n",
    "logreg = LogisticRegression()\n",
    "logreg.fit(X_train, y_train)"
   ]
  },
  {
   "cell_type": "code",
   "execution_count": 33,
   "id": "9a7deeb0",
   "metadata": {},
   "outputs": [
    {
     "name": "stdout",
     "output_type": "stream",
     "text": [
      "Accuracy of logistic regression classifier on test set: 0.93\n"
     ]
    }
   ],
   "source": [
    "y_pred = logreg.predict(X_test)\n",
    "print('Accuracy of logistic regression classifier on test set: {:.2f}'.format(logreg.score(X_test, y_test)))"
   ]
  },
  {
   "cell_type": "code",
   "execution_count": 34,
   "id": "e21e59df",
   "metadata": {
    "scrolled": true
   },
   "outputs": [
    {
     "data": {
      "image/png": "[encoded data removed]",
      "text/plain": [
       "<Figure size 432x288 with 1 Axes>"
      ]
     },
     "metadata": {
      "needs_background": "light"
     },
     "output_type": "display_data"
    }
   ],
   "source": [
    "# confusion matrix for Logistic Regression model\n",
    "cm = confusion_matrix(y_test, y_pred)\n",
    "\n",
    "# Visualize the confusion matrix\n",
    "plt.figure(figsize=(6, 4))\n",
    "sns.heatmap(cm, annot=True, fmt='d', cmap='Blues', cbar=False)\n",
    "plt.xlabel('Predicted Labels')\n",
    "plt.ylabel('Actual Labels')\n",
    "plt.title('Confusion Matrix')\n",
    "plt.show()"
   ]
  },
  {
   "cell_type": "code",
   "execution_count": 35,
   "id": "52e5699a",
   "metadata": {
    "scrolled": true
   },
   "outputs": [
    {
     "name": "stdout",
     "output_type": "stream",
     "text": [
      "              precision    recall  f1-score   support\n",
      "\n",
      "           0       0.93      0.94      0.93      2118\n",
      "           1       0.94      0.93      0.94      2199\n",
      "\n",
      "    accuracy                           0.93      4317\n",
      "   macro avg       0.93      0.93      0.93      4317\n",
      "weighted avg       0.93      0.93      0.93      4317\n",
      "\n"
     ]
    }
   ],
   "source": [
    "# compute precision, recall, F-measure and support \n",
    "print(classification_report(y_test, y_pred))"
   ]
  },
  {
   "cell_type": "code",
   "execution_count": 36,
   "id": "2254ad28",
   "metadata": {
    "scrolled": false
   },
   "outputs": [
    {
     "data": {
      "image/png": "[encoded data removed]",
      "text/plain": [
       "<Figure size 432x288 with 1 Axes>"
      ]
     },
     "metadata": {
      "needs_background": "light"
     },
     "output_type": "display_data"
    }
   ],
   "source": [
    "# ROC curve\n",
    "logit_roc_auc = roc_auc_score(y_test, logreg.predict(X_test))\n",
    "fpr, tpr, thresholds = roc_curve(y_test, logreg.predict_proba(X_test)[:,1])\n",
    "plt.figure()\n",
    "plt.plot(fpr, tpr, label='Logistic Regression (area = %0.2f)' % logit_roc_auc)\n",
    "plt.plot([0, 1], [0, 1],'r--')\n",
    "plt.xlim([0.0, 1.0])\n",
    "plt.ylim([0.0, 1.05])\n",
    "plt.xlabel('False Positive Rate')\n",
    "plt.ylabel('True Positive Rate')\n",
    "plt.title('Receiver operating characteristic')\n",
    "plt.legend(loc=\"lower right\")\n",
    "plt.savefig('Log_ROC')\n",
    "plt.show()"
   ]
  },
  {
   "cell_type": "markdown",
   "id": "a4c6a4ca",
   "metadata": {},
   "source": [
    "# 10. Logistic Regression Model Fitting (Without Oversampling)"
   ]
  },
  {
   "cell_type": "code",
   "execution_count": 37,
   "id": "c923d3cf",
   "metadata": {},
   "outputs": [
    {
     "name": "stderr",
     "output_type": "stream",
     "text": [
      "c:\\Users\\Praveen Satya\\AppData\\Local\\Programs\\Python\\Python310\\lib\\site-packages\\sklearn\\utils\\validation.py:1143: DataConversionWarning: A column-vector y was passed when a 1d array was expected. Please change the shape of y to (n_samples, ), for example using ravel().\n",
      "  y = column_or_1d(y, warn=True)\n",
      "c:\\Users\\Praveen Satya\\AppData\\Local\\Programs\\Python\\Python310\\lib\\site-packages\\sklearn\\linear_model\\_logistic.py:458: ConvergenceWarning: lbfgs failed to converge (status=1):\n",
      "STOP: TOTAL NO. of ITERATIONS REACHED LIMIT.\n",
      "\n",
      "Increase the number of iterations (max_iter) or scale the data as shown in:\n",
      "    https://scikit-learn.org/stable/modules/preprocessing.html\n",
      "Please also refer to the documentation for alternative solver options:\n",
      "    https://scikit-learn.org/stable/modules/linear_model.html#logistic-regression\n",
      "  n_iter_i = _check_optimize_result(\n"
     ]
    },
    {
     "data": {
      "image/png": "[encoded data removed]",
      "text/plain": [
       "<Figure size 432x288 with 1 Axes>"
      ]
     },
     "metadata": {
      "needs_background": "light"
     },
     "output_type": "display_data"
    }
   ],
   "source": [
    "# result comparison - oversampled vs original data\n",
    "X_org = shopper_df.loc[:, shopper_df.columns != 'Revenue']\n",
    "y_org = shopper_df.loc[:, shopper_df.columns == 'Revenue']\n",
    "\n",
    "X_train_org, X_test_org, y_train_org, y_test_org = train_test_split(X_org, y_org, test_size=0.3, random_state=0)\n",
    "logreg = LogisticRegression()\n",
    "logreg.fit(X_train_org, y_train_org)\n",
    "\n",
    "y_pred_org = logreg.predict(X_test_org)\n",
    "\n",
    "cm = confusion_matrix(y_test_org, y_pred_org)\n",
    "\n",
    "# Visualize the confusion matrix\n",
    "plt.figure(figsize=(6, 4))\n",
    "sns.heatmap(cm, annot=True, fmt='d', cmap='Blues', cbar=False)\n",
    "plt.xlabel('Predicted Labels')\n",
    "plt.ylabel('Actual Labels')\n",
    "plt.title('Confusion Matrix')\n",
    "plt.show()"
   ]
  },
  {
   "cell_type": "code",
   "execution_count": 38,
   "id": "a3c6189d",
   "metadata": {},
   "outputs": [
    {
     "data": {
      "image/png": "[encoded data removed]",
      "text/plain": [
       "<Figure size 432x288 with 1 Axes>"
      ]
     },
     "metadata": {
      "needs_background": "light"
     },
     "output_type": "display_data"
    }
   ],
   "source": [
    "# ROC curve\n",
    "logit_roc_auc = roc_auc_score(y_test_org, logreg.predict(X_test_org))\n",
    "fpr, tpr, thresholds = roc_curve(y_test_org, logreg.predict_proba(X_test_org)[:,1])\n",
    "plt.figure()\n",
    "plt.plot(fpr, tpr, label='Logistic Regression (area = %0.2f)' % logit_roc_auc)\n",
    "plt.plot([0, 1], [0, 1],'r--')\n",
    "plt.xlim([0.0, 1.0])\n",
    "plt.ylim([0.0, 1.05])\n",
    "plt.xlabel('False Positive Rate')\n",
    "plt.ylabel('True Positive Rate')\n",
    "plt.title('Receiver operating characteristic')\n",
    "plt.legend(loc=\"lower right\")\n",
    "plt.savefig('Log_ROC')\n",
    "plt.show()"
   ]
  },
  {
   "cell_type": "markdown",
   "id": "608ca2d1",
   "metadata": {},
   "source": [
    "# 11. SVM Model Fitting"
   ]
  },
  {
   "cell_type": "code",
   "execution_count": 39,
   "id": "cd24a1e7",
   "metadata": {},
   "outputs": [
    {
     "name": "stdout",
     "output_type": "stream",
     "text": [
      "Accuracy of SVM model classifier on test set: 0.93\n"
     ]
    }
   ],
   "source": [
    "model = SVC(kernel='rbf', gamma='scale', C=1.0)\n",
    "model.fit(X_train, y_train)\n",
    "y_pred = model.predict(X_test)\n",
    "\n",
    "print('Accuracy of SVM model classifier on test set: {:.2f}'.format(model.score(X_test, y_test)))"
   ]
  },
  {
   "cell_type": "code",
   "execution_count": 40,
   "id": "b3e29164",
   "metadata": {
    "scrolled": true
   },
   "outputs": [
    {
     "data": {
      "image/png": "[encoded data removed]",
      "text/plain": [
       "<Figure size 432x288 with 1 Axes>"
      ]
     },
     "metadata": {
      "needs_background": "light"
     },
     "output_type": "display_data"
    }
   ],
   "source": [
    "# confusion matrix\n",
    "cm = confusion_matrix(y_test, y_pred)\n",
    "\n",
    "# Visualize the confusion matrix\n",
    "plt.figure(figsize=(6, 4))\n",
    "sns.heatmap(cm, annot=True, fmt='d', cmap='Blues', cbar=False)\n",
    "plt.xlabel('Predicted Labels')\n",
    "plt.ylabel('Actual Labels')\n",
    "plt.title('Confusion Matrix')\n",
    "plt.show()"
   ]
  },
  {
   "cell_type": "code",
   "execution_count": 41,
   "id": "412a632e",
   "metadata": {
    "scrolled": true
   },
   "outputs": [
    {
     "name": "stdout",
     "output_type": "stream",
     "text": [
      "              precision    recall  f1-score   support\n",
      "\n",
      "           0       0.92      0.94      0.93      2118\n",
      "           1       0.94      0.93      0.93      2199\n",
      "\n",
      "    accuracy                           0.93      4317\n",
      "   macro avg       0.93      0.93      0.93      4317\n",
      "weighted avg       0.93      0.93      0.93      4317\n",
      "\n"
     ]
    }
   ],
   "source": [
    "print(classification_report(y_test, y_pred))"
   ]
  },
  {
   "cell_type": "markdown",
   "id": "2e1a3d46",
   "metadata": {},
   "source": [
    "# 12. Random Forests Model Fitting"
   ]
  },
  {
   "cell_type": "code",
   "execution_count": 42,
   "id": "4c069ef2",
   "metadata": {},
   "outputs": [
    {
     "name": "stdout",
     "output_type": "stream",
     "text": [
      "Accuracy of random forests model classifier on test set: 0.93\n"
     ]
    }
   ],
   "source": [
    "model = RandomForestClassifier(n_estimators=100, random_state=42)\n",
    "model.fit(X_train, y_train)\n",
    "y_pred = model.predict(X_test)\n",
    "\n",
    "print('Accuracy of random forests model classifier on test set: {:.2f}'.format(model.score(X_test, y_test)))"
   ]
  },
  {
   "cell_type": "code",
   "execution_count": 43,
   "id": "9ecb7af4",
   "metadata": {
    "scrolled": true
   },
   "outputs": [
    {
     "data": {
      "image/png": "[encoded data removed]",
      "text/plain": [
       "<Figure size 432x288 with 1 Axes>"
      ]
     },
     "metadata": {
      "needs_background": "light"
     },
     "output_type": "display_data"
    }
   ],
   "source": [
    "cm = confusion_matrix(y_test, y_pred)\n",
    "\n",
    "# Visualize the confusion matrix\n",
    "plt.figure(figsize=(6, 4))\n",
    "sns.heatmap(cm, annot=True, fmt='d', cmap='Blues', cbar=False)\n",
    "plt.xlabel('Predicted Labels')\n",
    "plt.ylabel('Actual Labels')\n",
    "plt.title('Confusion Matrix')\n",
    "plt.show()"
   ]
  },
  {
   "cell_type": "code",
   "execution_count": 44,
   "id": "720eb1a4",
   "metadata": {
    "scrolled": true
   },
   "outputs": [
    {
     "name": "stdout",
     "output_type": "stream",
     "text": [
      "              precision    recall  f1-score   support\n",
      "\n",
      "           0       0.93      0.92      0.93      2118\n",
      "           1       0.93      0.93      0.93      2199\n",
      "\n",
      "    accuracy                           0.93      4317\n",
      "   macro avg       0.93      0.93      0.93      4317\n",
      "weighted avg       0.93      0.93      0.93      4317\n",
      "\n"
     ]
    }
   ],
   "source": [
    "print(classification_report(y_test, y_pred))"
   ]
  },
  {
   "cell_type": "code",
   "execution_count": 45,
   "id": "4a66ecbc",
   "metadata": {
    "scrolled": true
   },
   "outputs": [
    {
     "data": {
      "image/png": "[encoded data removed]",
      "text/plain": [
       "<Figure size 432x288 with 1 Axes>"
      ]
     },
     "metadata": {
      "needs_background": "light"
     },
     "output_type": "display_data"
    }
   ],
   "source": [
    "rf_roc_auc = roc_auc_score(y_test, model.predict(X_test))\n",
    "fpr, tpr, thresholds = roc_curve(y_test, model.predict_proba(X_test)[:,1])\n",
    "plt.figure()\n",
    "plt.plot(fpr, tpr, label='Logistic Regression (area = %0.2f)' % rf_roc_auc)\n",
    "plt.plot([0, 1], [0, 1],'r--')\n",
    "plt.xlim([0.0, 1.0])\n",
    "plt.ylim([0.0, 1.05])\n",
    "plt.xlabel('False Positive Rate')\n",
    "plt.ylabel('True Positive Rate')\n",
    "plt.title('Receiver operating characteristic')\n",
    "plt.legend(loc=\"lower right\")\n",
    "plt.savefig('Log_ROC')\n",
    "plt.show()"
   ]
  }
 ],
 "metadata": {
  "kernelspec": {
   "display_name": "Python 3",
   "language": "python",
   "name": "python3"
  },
  "language_info": {
   "codemirror_mode": {
    "name": "ipython",
    "version": 3
   },
   "file_extension": ".py",
   "mimetype": "text/x-python",
   "name": "python",
   "nbconvert_exporter": "python",
   "pygments_lexer": "ipython3",
   "version": "3.10.1"
  }
 },
 "nbformat": 4,
 "nbformat_minor": 5
}
