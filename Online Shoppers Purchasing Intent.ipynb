{
 "cells": [
  {
   "cell_type": "markdown",
   "id": "10e2fffa",
   "metadata": {},
   "source": [
    "# 1. Import Modules"
   ]
  },
  {
   "cell_type": "code",
   "execution_count": 1,
   "id": "f9c836e3",
   "metadata": {},
   "outputs": [],
   "source": [
    "# imports\n",
    "# data transformation\n",
    "import pandas as pd\n",
    "import numpy as np\n",
    "\n",
    "# visualization\n",
    "import seaborn as sns\n",
    "import matplotlib.pyplot as plt\n",
    "\n",
    "# machine learning\n",
    "from imblearn.over_sampling import SMOTE\n",
    "from sklearn.model_selection import train_test_split\n",
    "from sklearn.feature_selection import RFE\n",
    "from sklearn.linear_model import LogisticRegression\n",
    "from sklearn.linear_model import LogisticRegression\n",
    "from sklearn import metrics\n",
    "from sklearn.metrics import confusion_matrix\n",
    "from sklearn.metrics import roc_auc_score\n",
    "from sklearn.metrics import roc_curve\n",
    "from sklearn.metrics import classification_report\n",
    "from sklearn.ensemble import RandomForestClassifier\n",
    "from sklearn.svm import SVC\n",
    "from sklearn.metrics import roc_auc_score\n",
    "from sklearn.metrics import roc_curve\n",
    "import statsmodels.api as sm"
   ]
  },
  {
   "cell_type": "markdown",
   "id": "5f373c34",
   "metadata": {},
   "source": [
    "# 2. Load Data And Preprocessing"
   ]
  },
  {
   "cell_type": "code",
   "execution_count": null,
   "id": "34b7b24c",
   "metadata": {},
   "outputs": [],
   "source": [
    "# load data\n",
    "shopper_df = pd.read_csv('dataset/online_shoppers_intention.csv')"
   ]
  },
  {
   "cell_type": "code",
   "execution_count": null,
   "id": "b12f7122",
   "metadata": {
    "scrolled": true
   },
   "outputs": [
    {
     "data": {
      "text/html": [
       "<div>\n",
       "<style scoped>\n",
       "    .dataframe tbody tr th:only-of-type {\n",
       "        vertical-align: middle;\n",
       "    }\n",
       "\n",
       "    .dataframe tbody tr th {\n",
       "        vertical-align: top;\n",
       "    }\n",
       "\n",
       "    .dataframe thead th {\n",
       "        text-align: right;\n",
       "    }\n",
       "</style>\n",
       "<table border=\"1\" class=\"dataframe\">\n",
       "  <thead>\n",
       "    <tr style=\"text-align: right;\">\n",
       "      <th></th>\n",
       "      <th>Administrative</th>\n",
       "      <th>Administrative_Duration</th>\n",
       "      <th>Informational</th>\n",
       "      <th>Informational_Duration</th>\n",
       "      <th>ProductRelated</th>\n",
       "      <th>ProductRelated_Duration</th>\n",
       "      <th>BounceRates</th>\n",
       "      <th>ExitRates</th>\n",
       "      <th>PageValues</th>\n",
       "      <th>SpecialDay</th>\n",
       "      <th>Month</th>\n",
       "      <th>OperatingSystems</th>\n",
       "      <th>Browser</th>\n",
       "      <th>Region</th>\n",
       "      <th>TrafficType</th>\n",
       "      <th>VisitorType</th>\n",
       "      <th>Weekend</th>\n",
       "      <th>Revenue</th>\n",
       "    </tr>\n",
       "  </thead>\n",
       "  <tbody>\n",
       "    <tr>\n",
       "      <th>0</th>\n",
       "      <td>0</td>\n",
       "      <td>0.0</td>\n",
       "      <td>0</td>\n",
       "      <td>0.0</td>\n",
       "      <td>1</td>\n",
       "      <td>0.000000</td>\n",
       "      <td>0.20</td>\n",
       "      <td>0.20</td>\n",
       "      <td>0.0</td>\n",
       "      <td>0.0</td>\n",
       "      <td>Feb</td>\n",
       "      <td>1</td>\n",
       "      <td>1</td>\n",
       "      <td>1</td>\n",
       "      <td>1</td>\n",
       "      <td>Returning_Visitor</td>\n",
       "      <td>False</td>\n",
       "      <td>False</td>\n",
       "    </tr>\n",
       "    <tr>\n",
       "      <th>1</th>\n",
       "      <td>0</td>\n",
       "      <td>0.0</td>\n",
       "      <td>0</td>\n",
       "      <td>0.0</td>\n",
       "      <td>2</td>\n",
       "      <td>64.000000</td>\n",
       "      <td>0.00</td>\n",
       "      <td>0.10</td>\n",
       "      <td>0.0</td>\n",
       "      <td>0.0</td>\n",
       "      <td>Feb</td>\n",
       "      <td>2</td>\n",
       "      <td>2</td>\n",
       "      <td>1</td>\n",
       "      <td>2</td>\n",
       "      <td>Returning_Visitor</td>\n",
       "      <td>False</td>\n",
       "      <td>False</td>\n",
       "    </tr>\n",
       "    <tr>\n",
       "      <th>2</th>\n",
       "      <td>0</td>\n",
       "      <td>0.0</td>\n",
       "      <td>0</td>\n",
       "      <td>0.0</td>\n",
       "      <td>1</td>\n",
       "      <td>0.000000</td>\n",
       "      <td>0.20</td>\n",
       "      <td>0.20</td>\n",
       "      <td>0.0</td>\n",
       "      <td>0.0</td>\n",
       "      <td>Feb</td>\n",
       "      <td>4</td>\n",
       "      <td>1</td>\n",
       "      <td>9</td>\n",
       "      <td>3</td>\n",
       "      <td>Returning_Visitor</td>\n",
       "      <td>False</td>\n",
       "      <td>False</td>\n",
       "    </tr>\n",
       "    <tr>\n",
       "      <th>3</th>\n",
       "      <td>0</td>\n",
       "      <td>0.0</td>\n",
       "      <td>0</td>\n",
       "      <td>0.0</td>\n",
       "      <td>2</td>\n",
       "      <td>2.666667</td>\n",
       "      <td>0.05</td>\n",
       "      <td>0.14</td>\n",
       "      <td>0.0</td>\n",
       "      <td>0.0</td>\n",
       "      <td>Feb</td>\n",
       "      <td>3</td>\n",
       "      <td>2</td>\n",
       "      <td>2</td>\n",
       "      <td>4</td>\n",
       "      <td>Returning_Visitor</td>\n",
       "      <td>False</td>\n",
       "      <td>False</td>\n",
       "    </tr>\n",
       "    <tr>\n",
       "      <th>4</th>\n",
       "      <td>0</td>\n",
       "      <td>0.0</td>\n",
       "      <td>0</td>\n",
       "      <td>0.0</td>\n",
       "      <td>10</td>\n",
       "      <td>627.500000</td>\n",
       "      <td>0.02</td>\n",
       "      <td>0.05</td>\n",
       "      <td>0.0</td>\n",
       "      <td>0.0</td>\n",
       "      <td>Feb</td>\n",
       "      <td>3</td>\n",
       "      <td>3</td>\n",
       "      <td>1</td>\n",
       "      <td>4</td>\n",
       "      <td>Returning_Visitor</td>\n",
       "      <td>True</td>\n",
       "      <td>False</td>\n",
       "    </tr>\n",
       "  </tbody>\n",
       "</table>\n",
       "</div>"
      ],
      "text/plain": [
       "   Administrative  Administrative_Duration  Informational  \\\n",
       "0               0                      0.0              0   \n",
       "1               0                      0.0              0   \n",
       "2               0                      0.0              0   \n",
       "3               0                      0.0              0   \n",
       "4               0                      0.0              0   \n",
       "\n",
       "   Informational_Duration  ProductRelated  ProductRelated_Duration  \\\n",
       "0                     0.0               1                 0.000000   \n",
       "1                     0.0               2                64.000000   \n",
       "2                     0.0               1                 0.000000   \n",
       "3                     0.0               2                 2.666667   \n",
       "4                     0.0              10               627.500000   \n",
       "\n",
       "   BounceRates  ExitRates  PageValues  SpecialDay Month  OperatingSystems  \\\n",
       "0         0.20       0.20         0.0         0.0   Feb                 1   \n",
       "1         0.00       0.10         0.0         0.0   Feb                 2   \n",
       "2         0.20       0.20         0.0         0.0   Feb                 4   \n",
       "3         0.05       0.14         0.0         0.0   Feb                 3   \n",
       "4         0.02       0.05         0.0         0.0   Feb                 3   \n",
       "\n",
       "   Browser  Region  TrafficType        VisitorType  Weekend  Revenue  \n",
       "0        1       1            1  Returning_Visitor    False    False  \n",
       "1        2       1            2  Returning_Visitor    False    False  \n",
       "2        1       9            3  Returning_Visitor    False    False  \n",
       "3        2       2            4  Returning_Visitor    False    False  \n",
       "4        3       1            4  Returning_Visitor     True    False  "
      ]
     },
     "execution_count": 3,
     "metadata": {},
     "output_type": "execute_result"
    }
   ],
   "source": [
    "# display a sample\n",
    "shopper_df.head()"
   ]
  },
  {
   "cell_type": "code",
   "execution_count": null,
   "id": "98ff5622",
   "metadata": {},
   "outputs": [
    {
     "data": {
      "text/plain": [
       "Index(['Administrative', 'Administrative_Duration', 'Informational',\n",
       "       'Informational_Duration', 'ProductRelated', 'ProductRelated_Duration',\n",
       "       'BounceRates', 'ExitRates', 'PageValues', 'SpecialDay', 'Month',\n",
       "       'OperatingSystems', 'Browser', 'Region', 'TrafficType', 'VisitorType',\n",
       "       'Weekend', 'Revenue'],\n",
       "      dtype='object')"
      ]
     },
     "execution_count": 4,
     "metadata": {},
     "output_type": "execute_result"
    }
   ],
   "source": [
    "# columns in the dataset\n",
    "shopper_df.columns"
   ]
  },
  {
   "cell_type": "code",
   "execution_count": null,
   "id": "d63e5278",
   "metadata": {
    "scrolled": true
   },
   "outputs": [
    {
     "data": {
      "text/plain": [
       "Administrative               int64\n",
       "Administrative_Duration    float64\n",
       "Informational                int64\n",
       "Informational_Duration     float64\n",
       "ProductRelated               int64\n",
       "ProductRelated_Duration    float64\n",
       "BounceRates                float64\n",
       "ExitRates                  float64\n",
       "PageValues                 float64\n",
       "SpecialDay                 float64\n",
       "Month                       object\n",
       "OperatingSystems             int64\n",
       "Browser                      int64\n",
       "Region                       int64\n",
       "TrafficType                  int64\n",
       "VisitorType                 object\n",
       "Weekend                       bool\n",
       "Revenue                       bool\n",
       "dtype: object"
      ]
     },
     "execution_count": 5,
     "metadata": {},
     "output_type": "execute_result"
    }
   ],
   "source": [
    "# data type of columns\n",
    "shopper_df.dtypes"
   ]
  },
  {
   "cell_type": "code",
   "execution_count": 6,
   "id": "71ab0d4e",
   "metadata": {},
   "outputs": [],
   "source": [
    "# correcting the data type of columns\n",
    "columns_to_convert = ['OperatingSystems','Browser', 'Region', 'TrafficType', 'VisitorType', 'Weekend', 'Month']\n",
    "shopper_df['Revenue'] = shopper_df['Revenue'].astype(int)\n",
    "shopper_df[columns_to_convert] = shopper_df[columns_to_convert].astype('object')"
   ]
  },
  {
   "cell_type": "code",
   "execution_count": null,
   "id": "691d3428",
   "metadata": {},
   "outputs": [
    {
     "data": {
      "text/plain": [
       "Administrative               int64\n",
       "Administrative_Duration    float64\n",
       "Informational                int64\n",
       "Informational_Duration     float64\n",
       "ProductRelated               int64\n",
       "ProductRelated_Duration    float64\n",
       "BounceRates                float64\n",
       "ExitRates                  float64\n",
       "PageValues                 float64\n",
       "SpecialDay                 float64\n",
       "Month                       object\n",
       "OperatingSystems            object\n",
       "Browser                     object\n",
       "Region                      object\n",
       "TrafficType                 object\n",
       "VisitorType                 object\n",
       "Weekend                     object\n",
       "Revenue                      int32\n",
       "dtype: object"
      ]
     },
     "execution_count": 7,
     "metadata": {},
     "output_type": "execute_result"
    }
   ],
   "source": [
    "# check column data types after collection\n",
    "shopper_df.dtypes"
   ]
  },
  {
   "cell_type": "code",
   "execution_count": 10,
   "id": "3c566c75",
   "metadata": {},
   "outputs": [
    {
     "data": {
      "text/plain": [
       "Administrative             0\n",
       "Administrative_Duration    0\n",
       "Informational              0\n",
       "Informational_Duration     0\n",
       "ProductRelated             0\n",
       "ProductRelated_Duration    0\n",
       "BounceRates                0\n",
       "ExitRates                  0\n",
       "PageValues                 0\n",
       "SpecialDay                 0\n",
       "Month                      0\n",
       "OperatingSystems           0\n",
       "Browser                    0\n",
       "Region                     0\n",
       "TrafficType                0\n",
       "VisitorType                0\n",
       "Weekend                    0\n",
       "Revenue                    0\n",
       "dtype: int64"
      ]
     },
     "execution_count": 10,
     "metadata": {},
     "output_type": "execute_result"
    }
   ],
   "source": [
    "# check for nulls\n",
    "shopper_df.isna().sum()"
   ]
  },
  {
   "cell_type": "code",
   "execution_count": 12,
   "id": "11c87966",
   "metadata": {},
   "outputs": [
    {
     "data": {
      "text/plain": [
       "125"
      ]
     },
     "execution_count": 12,
     "metadata": {},
     "output_type": "execute_result"
    }
   ],
   "source": [
    "# check for duplicates\n",
    "shopper_df.duplicated().sum()"
   ]
  },
  {
   "cell_type": "code",
   "execution_count": 13,
   "id": "e1977a4f",
   "metadata": {},
   "outputs": [],
   "source": [
    "# remove duplicates\n",
    "shopper_df.drop_duplicates(inplace=True)"
   ]
  },
  {
   "cell_type": "code",
   "execution_count": 14,
   "id": "afb60791",
   "metadata": {},
   "outputs": [
    {
     "data": {
      "text/plain": [
       "0"
      ]
     },
     "execution_count": 14,
     "metadata": {},
     "output_type": "execute_result"
    }
   ],
   "source": [
    "# check for duplicates again\n",
    "shopper_df.duplicated().sum()"
   ]
  },
  {
   "cell_type": "markdown",
   "id": "4c958ba5",
   "metadata": {},
   "source": [
    "# Data Exploration"
   ]
  },
  {
   "cell_type": "code",
   "execution_count": 15,
   "id": "2be292ca",
   "metadata": {},
   "outputs": [
    {
     "data": {
      "text/plain": [
       "0    10297\n",
       "1     1908\n",
       "Name: Revenue, dtype: int64"
      ]
     },
     "execution_count": 15,
     "metadata": {},
     "output_type": "execute_result"
    }
   ],
   "source": [
    "# check distribution of values for Revenue column\n",
    "# value 1: earned revenue\n",
    "# value 0: did not earn revenue\n",
    "shopper_df['Revenue'].value_counts()"
   ]
  },
  {
   "cell_type": "code",
   "execution_count": 22,
   "id": "1b13e484",
   "metadata": {},
   "outputs": [
    {
     "data": {
      "image/png": "[encoded data removed]",
      "text/plain": [
       "<Figure size 432x288 with 1 Axes>"
      ]
     },
     "metadata": {},
     "output_type": "display_data"
    }
   ],
   "source": [
    "# create the count plot\n",
    "ax = sns.countplot(x='Revenue', data=shopper_df, palette='hls')\n",
    "\n",
    "# calculate the percentages\n",
    "total = len(shopper_df)\n",
    "for p in ax.patches:\n",
    "    percentage = f\"{100 * p.get_height() / total:.2f}%\"  # calculate percentage\n",
    "    x = p.get_x() + p.get_width() / 2  # x-coordinate for text\n",
    "    y = p.get_height()  # y-coordinate for text\n",
    "    ax.annotate(percentage, (x, y), ha='center', va='bottom')  # annotate the bars\n",
    "\n",
    "# show the plot\n",
    "plt.title('Distribution of Revenue Classes with Percentages')\n",
    "plt.xlabel('Revenue')\n",
    "plt.ylabel('Count')\n",
    "plt.show()"
   ]
  },
  {
   "cell_type": "code",
   "execution_count": 11,
   "id": "c4bac51d",
   "metadata": {
    "scrolled": true
   },
   "outputs": [
    {
     "data": {
      "text/html": [
       "<div>\n",
       "<style scoped>\n",
       "    .dataframe tbody tr th:only-of-type {\n",
       "        vertical-align: middle;\n",
       "    }\n",
       "\n",
       "    .dataframe tbody tr th {\n",
       "        vertical-align: top;\n",
       "    }\n",
       "\n",
       "    .dataframe thead th {\n",
       "        text-align: right;\n",
       "    }\n",
       "</style>\n",
       "<table border=\"1\" class=\"dataframe\">\n",
       "  <thead>\n",
       "    <tr style=\"text-align: right;\">\n",
       "      <th></th>\n",
       "      <th>Administrative</th>\n",
       "      <th>Administrative_Duration</th>\n",
       "      <th>Informational</th>\n",
       "      <th>Informational_Duration</th>\n",
       "      <th>ProductRelated</th>\n",
       "      <th>ProductRelated_Duration</th>\n",
       "      <th>BounceRates</th>\n",
       "      <th>ExitRates</th>\n",
       "      <th>PageValues</th>\n",
       "      <th>SpecialDay</th>\n",
       "    </tr>\n",
       "    <tr>\n",
       "      <th>Revenue</th>\n",
       "      <th></th>\n",
       "      <th></th>\n",
       "      <th></th>\n",
       "      <th></th>\n",
       "      <th></th>\n",
       "      <th></th>\n",
       "      <th></th>\n",
       "      <th></th>\n",
       "      <th></th>\n",
       "      <th></th>\n",
       "    </tr>\n",
       "  </thead>\n",
       "  <tbody>\n",
       "    <tr>\n",
       "      <th>0</th>\n",
       "      <td>2.117732</td>\n",
       "      <td>73.740111</td>\n",
       "      <td>0.451833</td>\n",
       "      <td>30.236237</td>\n",
       "      <td>28.714642</td>\n",
       "      <td>1069.987809</td>\n",
       "      <td>0.025317</td>\n",
       "      <td>0.047378</td>\n",
       "      <td>1.975998</td>\n",
       "      <td>0.068432</td>\n",
       "    </tr>\n",
       "    <tr>\n",
       "      <th>1</th>\n",
       "      <td>3.393606</td>\n",
       "      <td>119.483244</td>\n",
       "      <td>0.786164</td>\n",
       "      <td>57.611427</td>\n",
       "      <td>48.210168</td>\n",
       "      <td>1876.209615</td>\n",
       "      <td>0.005117</td>\n",
       "      <td>0.019555</td>\n",
       "      <td>27.264518</td>\n",
       "      <td>0.023166</td>\n",
       "    </tr>\n",
       "  </tbody>\n",
       "</table>\n",
       "</div>"
      ],
      "text/plain": [
       "         Administrative  Administrative_Duration  Informational  \\\n",
       "Revenue                                                           \n",
       "0              2.117732                73.740111       0.451833   \n",
       "1              3.393606               119.483244       0.786164   \n",
       "\n",
       "         Informational_Duration  ProductRelated  ProductRelated_Duration  \\\n",
       "Revenue                                                                    \n",
       "0                     30.236237       28.714642              1069.987809   \n",
       "1                     57.611427       48.210168              1876.209615   \n",
       "\n",
       "         BounceRates  ExitRates  PageValues  SpecialDay  \n",
       "Revenue                                                  \n",
       "0           0.025317   0.047378    1.975998    0.068432  \n",
       "1           0.005117   0.019555   27.264518    0.023166  "
      ]
     },
     "execution_count": 11,
     "metadata": {},
     "output_type": "execute_result"
    }
   ],
   "source": [
    "# mean values of features for revenue classes\n",
    "shopper_df[['Revenue', 'Administrative', 'Administrative_Duration',\n",
    "           'Informational', 'Informational_Duration', 'ProductRelated',\n",
    "           'ProductRelated_Duration', 'BounceRates', 'ExitRates',\n",
    "           'PageValues', 'SpecialDay']].groupby('Revenue').mean()"
   ]
  },
  {
   "cell_type": "code",
   "execution_count": 12,
   "id": "2d6dc73c",
   "metadata": {
    "scrolled": true
   },
   "outputs": [
    {
     "data": {
      "text/html": [
       "<div>\n",
       "<style scoped>\n",
       "    .dataframe tbody tr th:only-of-type {\n",
       "        vertical-align: middle;\n",
       "    }\n",
       "\n",
       "    .dataframe tbody tr th {\n",
       "        vertical-align: top;\n",
       "    }\n",
       "\n",
       "    .dataframe thead th {\n",
       "        text-align: right;\n",
       "    }\n",
       "</style>\n",
       "<table border=\"1\" class=\"dataframe\">\n",
       "  <thead>\n",
       "    <tr style=\"text-align: right;\">\n",
       "      <th></th>\n",
       "      <th>Administrative</th>\n",
       "      <th>Administrative_Duration</th>\n",
       "      <th>Informational</th>\n",
       "      <th>Informational_Duration</th>\n",
       "      <th>ProductRelated</th>\n",
       "      <th>ProductRelated_Duration</th>\n",
       "      <th>BounceRates</th>\n",
       "      <th>ExitRates</th>\n",
       "      <th>PageValues</th>\n",
       "      <th>SpecialDay</th>\n",
       "    </tr>\n",
       "    <tr>\n",
       "      <th>VisitorType</th>\n",
       "      <th></th>\n",
       "      <th></th>\n",
       "      <th></th>\n",
       "      <th></th>\n",
       "      <th></th>\n",
       "      <th></th>\n",
       "      <th></th>\n",
       "      <th></th>\n",
       "      <th></th>\n",
       "      <th></th>\n",
       "    </tr>\n",
       "  </thead>\n",
       "  <tbody>\n",
       "    <tr>\n",
       "      <th>New_Visitor</th>\n",
       "      <td>2.551948</td>\n",
       "      <td>91.911315</td>\n",
       "      <td>0.333530</td>\n",
       "      <td>19.237472</td>\n",
       "      <td>18.054900</td>\n",
       "      <td>636.393354</td>\n",
       "      <td>0.005261</td>\n",
       "      <td>0.020681</td>\n",
       "      <td>10.772187</td>\n",
       "      <td>0.020189</td>\n",
       "    </tr>\n",
       "    <tr>\n",
       "      <th>Other</th>\n",
       "      <td>1.470588</td>\n",
       "      <td>62.695588</td>\n",
       "      <td>0.176471</td>\n",
       "      <td>11.685490</td>\n",
       "      <td>12.470588</td>\n",
       "      <td>570.404862</td>\n",
       "      <td>0.038551</td>\n",
       "      <td>0.063349</td>\n",
       "      <td>18.191812</td>\n",
       "      <td>0.000000</td>\n",
       "    </tr>\n",
       "    <tr>\n",
       "      <th>Returning_Visitor</th>\n",
       "      <td>2.283954</td>\n",
       "      <td>79.183639</td>\n",
       "      <td>0.533504</td>\n",
       "      <td>37.101992</td>\n",
       "      <td>34.082457</td>\n",
       "      <td>1289.421490</td>\n",
       "      <td>0.024778</td>\n",
       "      <td>0.046505</td>\n",
       "      <td>5.006176</td>\n",
       "      <td>0.068543</td>\n",
       "    </tr>\n",
       "  </tbody>\n",
       "</table>\n",
       "</div>"
      ],
      "text/plain": [
       "                   Administrative  Administrative_Duration  Informational  \\\n",
       "VisitorType                                                                 \n",
       "New_Visitor              2.551948                91.911315       0.333530   \n",
       "Other                    1.470588                62.695588       0.176471   \n",
       "Returning_Visitor        2.283954                79.183639       0.533504   \n",
       "\n",
       "                   Informational_Duration  ProductRelated  \\\n",
       "VisitorType                                                 \n",
       "New_Visitor                     19.237472       18.054900   \n",
       "Other                           11.685490       12.470588   \n",
       "Returning_Visitor               37.101992       34.082457   \n",
       "\n",
       "                   ProductRelated_Duration  BounceRates  ExitRates  \\\n",
       "VisitorType                                                          \n",
       "New_Visitor                     636.393354     0.005261   0.020681   \n",
       "Other                           570.404862     0.038551   0.063349   \n",
       "Returning_Visitor              1289.421490     0.024778   0.046505   \n",
       "\n",
       "                   PageValues  SpecialDay  \n",
       "VisitorType                                \n",
       "New_Visitor         10.772187    0.020189  \n",
       "Other               18.191812    0.000000  \n",
       "Returning_Visitor    5.006176    0.068543  "
      ]
     },
     "execution_count": 12,
     "metadata": {},
     "output_type": "execute_result"
    }
   ],
   "source": [
    "# mean values of features for different visitor types\n",
    "shopper_df[['VisitorType', 'Administrative', 'Administrative_Duration',\n",
    "           'Informational', 'Informational_Duration', 'ProductRelated',\n",
    "           'ProductRelated_Duration', 'BounceRates', 'ExitRates',\n",
    "           'PageValues', 'SpecialDay']].groupby('VisitorType').mean()"
   ]
  },
  {
   "cell_type": "code",
   "execution_count": 13,
   "id": "1d106bef",
   "metadata": {
    "scrolled": true
   },
   "outputs": [
    {
     "data": {
      "text/html": [
       "<div>\n",
       "<style scoped>\n",
       "    .dataframe tbody tr th:only-of-type {\n",
       "        vertical-align: middle;\n",
       "    }\n",
       "\n",
       "    .dataframe tbody tr th {\n",
       "        vertical-align: top;\n",
       "    }\n",
       "\n",
       "    .dataframe thead th {\n",
       "        text-align: right;\n",
       "    }\n",
       "</style>\n",
       "<table border=\"1\" class=\"dataframe\">\n",
       "  <thead>\n",
       "    <tr style=\"text-align: right;\">\n",
       "      <th></th>\n",
       "      <th>Administrative</th>\n",
       "      <th>Administrative_Duration</th>\n",
       "      <th>Informational</th>\n",
       "      <th>Informational_Duration</th>\n",
       "      <th>ProductRelated</th>\n",
       "      <th>ProductRelated_Duration</th>\n",
       "      <th>BounceRates</th>\n",
       "      <th>ExitRates</th>\n",
       "      <th>PageValues</th>\n",
       "      <th>SpecialDay</th>\n",
       "    </tr>\n",
       "    <tr>\n",
       "      <th>Weekend</th>\n",
       "      <th></th>\n",
       "      <th></th>\n",
       "      <th></th>\n",
       "      <th></th>\n",
       "      <th></th>\n",
       "      <th></th>\n",
       "      <th></th>\n",
       "      <th></th>\n",
       "      <th></th>\n",
       "      <th></th>\n",
       "    </tr>\n",
       "  </thead>\n",
       "  <tbody>\n",
       "    <tr>\n",
       "      <th>False</th>\n",
       "      <td>2.266857</td>\n",
       "      <td>79.359739</td>\n",
       "      <td>0.478546</td>\n",
       "      <td>32.606637</td>\n",
       "      <td>31.337455</td>\n",
       "      <td>1187.044261</td>\n",
       "      <td>0.023433</td>\n",
       "      <td>0.044747</td>\n",
       "      <td>5.766571</td>\n",
       "      <td>0.063264</td>\n",
       "    </tr>\n",
       "    <tr>\n",
       "      <th>True</th>\n",
       "      <td>2.474547</td>\n",
       "      <td>85.631667</td>\n",
       "      <td>0.586123</td>\n",
       "      <td>40.627846</td>\n",
       "      <td>33.031381</td>\n",
       "      <td>1220.156240</td>\n",
       "      <td>0.018095</td>\n",
       "      <td>0.037549</td>\n",
       "      <td>6.294020</td>\n",
       "      <td>0.055370</td>\n",
       "    </tr>\n",
       "  </tbody>\n",
       "</table>\n",
       "</div>"
      ],
      "text/plain": [
       "         Administrative  Administrative_Duration  Informational  \\\n",
       "Weekend                                                           \n",
       "False          2.266857                79.359739       0.478546   \n",
       "True           2.474547                85.631667       0.586123   \n",
       "\n",
       "         Informational_Duration  ProductRelated  ProductRelated_Duration  \\\n",
       "Weekend                                                                    \n",
       "False                 32.606637       31.337455              1187.044261   \n",
       "True                  40.627846       33.031381              1220.156240   \n",
       "\n",
       "         BounceRates  ExitRates  PageValues  SpecialDay  \n",
       "Weekend                                                  \n",
       "False       0.023433   0.044747    5.766571    0.063264  \n",
       "True        0.018095   0.037549    6.294020    0.055370  "
      ]
     },
     "execution_count": 13,
     "metadata": {},
     "output_type": "execute_result"
    }
   ],
   "source": [
    "# mean values of features for weekend and non-weekend\n",
    "shopper_df[['Weekend', 'Administrative', 'Administrative_Duration',\n",
    "           'Informational', 'Informational_Duration', 'ProductRelated',\n",
    "           'ProductRelated_Duration', 'BounceRates', 'ExitRates',\n",
    "           'PageValues', 'SpecialDay']].groupby('Weekend').mean()"
   ]
  },
  {
   "cell_type": "markdown",
   "id": "def375e3",
   "metadata": {},
   "source": [
    "# Visualizations"
   ]
  },
  {
   "cell_type": "code",
   "execution_count": null,
   "id": "d2a74c20",
   "metadata": {},
   "outputs": [
    {
     "data": {
      "image/png": "[encoded data removed]",
      "text/plain": [
       "<Figure size 432x288 with 1 Axes>"
      ]
     },
     "metadata": {
      "needs_background": "light"
     },
     "output_type": "display_data"
    }
   ],
   "source": [
    "month_category_count = shopper_df.groupby(['Month', 'Revenue']).size().unstack()\n",
    "\n",
    "# Specify the desired order of index values\n",
    "desired_order = ['Feb', 'Mar', 'May', 'June', 'Jul', 'Aug', 'Sep', 'Oct', 'Nov', 'Dec']\n",
    "\n",
    "# Reindex with the desired order\n",
    "month_category_count = month_category_count.reindex(desired_order)\n",
    "\n",
    "month_category_count.plot(kind='line', stacked=False)\n",
    "\n",
    "# Adding title and labels\n",
    "plt.title('Revenue Trend')\n",
    "plt.xlabel('Month')\n",
    "plt.ylabel('Count')\n",
    "\n",
    "# Display the plot\n",
    "plt.show()"
   ]
  },
  {
   "cell_type": "code",
   "execution_count": 15,
   "id": "d8123192",
   "metadata": {},
   "outputs": [
    {
     "data": {
      "image/png": "[encoded data removed]",
      "text/plain": [
       "<Figure size 432x432 with 1 Axes>"
      ]
     },
     "metadata": {},
     "output_type": "display_data"
    }
   ],
   "source": [
    "# Sample DataFrame\n",
    "data = {'Fruit': ['Apple', 'Banana', 'Orange', 'Mango'],\n",
    "        'Quantity': [30, 25, 20, 25]}  # Quantity in percentage\n",
    "\n",
    "df = pd.DataFrame(data)\n",
    "\n",
    "true_revenue = shopper_df[shopper_df['Revenue']==True].groupby(['VisitorType']).size()\n",
    "\n",
    "# Plot\n",
    "plt.figure(figsize=(6, 6))\n",
    "plt.pie(true_revenue.values, labels=true_revenue.index, autopct='%1.1f%%', startangle=140)\n",
    "\n",
    "plt.axis('equal')\n",
    "plt.title('True Revenue by Visitor Type')\n",
    "\n",
    "plt.show()"
   ]
  },
  {
   "cell_type": "markdown",
   "id": "fe32f6e7",
   "metadata": {},
   "source": [
    "# Create dummy variables"
   ]
  },
  {
   "cell_type": "code",
   "execution_count": 16,
   "id": "d5507449",
   "metadata": {
    "scrolled": true
   },
   "outputs": [
    {
     "name": "stderr",
     "output_type": "stream",
     "text": [
      "C:\\Users\\Praveen Satya\\AppData\\Local\\Programs\\Python\\Python310\\lib\\site-packages\\pandas\\core\\algorithms.py:798: FutureWarning: In a future version, the Index constructor will not infer numeric dtypes when passed object-dtype sequences (matching Series behavior)\n",
      "  uniques = Index(uniques)\n",
      "C:\\Users\\Praveen Satya\\AppData\\Local\\Programs\\Python\\Python310\\lib\\site-packages\\pandas\\core\\algorithms.py:798: FutureWarning: In a future version, the Index constructor will not infer numeric dtypes when passed object-dtype sequences (matching Series behavior)\n",
      "  uniques = Index(uniques)\n",
      "C:\\Users\\Praveen Satya\\AppData\\Local\\Programs\\Python\\Python310\\lib\\site-packages\\pandas\\core\\algorithms.py:798: FutureWarning: In a future version, the Index constructor will not infer numeric dtypes when passed object-dtype sequences (matching Series behavior)\n",
      "  uniques = Index(uniques)\n",
      "C:\\Users\\Praveen Satya\\AppData\\Local\\Programs\\Python\\Python310\\lib\\site-packages\\pandas\\core\\algorithms.py:798: FutureWarning: In a future version, the Index constructor will not infer numeric dtypes when passed object-dtype sequences (matching Series behavior)\n",
      "  uniques = Index(uniques)\n"
     ]
    }
   ],
   "source": [
    "cat_vars=['OperatingSystems','Browser', 'Region', 'TrafficType', 'VisitorType', 'Weekend', 'Month']\n",
    "for var in cat_vars:\n",
    "    cat_list='var'+'_'+var\n",
    "    cat_list = pd.get_dummies(shopper_df[var], prefix=var)\n",
    "    shopper_df1 = shopper_df.join(cat_list)\n",
    "    shopper_df=shopper_df1\n",
    "\n",
    "data_vars = shopper_df.columns.values.tolist()\n",
    "to_keep = [i for i in data_vars if i not in cat_vars]"
   ]
  },
  {
   "cell_type": "code",
   "execution_count": 17,
   "id": "facfd6c4",
   "metadata": {
    "scrolled": true
   },
   "outputs": [
    {
     "data": {
      "text/plain": [
       "array(['Administrative', 'Administrative_Duration', 'Informational',\n",
       "       'Informational_Duration', 'ProductRelated',\n",
       "       'ProductRelated_Duration', 'BounceRates', 'ExitRates',\n",
       "       'PageValues', 'SpecialDay', 'Revenue', 'OperatingSystems_1',\n",
       "       'OperatingSystems_2', 'OperatingSystems_3', 'OperatingSystems_4',\n",
       "       'OperatingSystems_5', 'OperatingSystems_6', 'OperatingSystems_7',\n",
       "       'OperatingSystems_8', 'Browser_1', 'Browser_2', 'Browser_3',\n",
       "       'Browser_4', 'Browser_5', 'Browser_6', 'Browser_7', 'Browser_8',\n",
       "       'Browser_9', 'Browser_10', 'Browser_11', 'Browser_12',\n",
       "       'Browser_13', 'Region_1', 'Region_2', 'Region_3', 'Region_4',\n",
       "       'Region_5', 'Region_6', 'Region_7', 'Region_8', 'Region_9',\n",
       "       'TrafficType_1', 'TrafficType_2', 'TrafficType_3', 'TrafficType_4',\n",
       "       'TrafficType_5', 'TrafficType_6', 'TrafficType_7', 'TrafficType_8',\n",
       "       'TrafficType_9', 'TrafficType_10', 'TrafficType_11',\n",
       "       'TrafficType_12', 'TrafficType_13', 'TrafficType_14',\n",
       "       'TrafficType_15', 'TrafficType_16', 'TrafficType_17',\n",
       "       'TrafficType_18', 'TrafficType_19', 'TrafficType_20',\n",
       "       'VisitorType_New_Visitor', 'VisitorType_Other',\n",
       "       'VisitorType_Returning_Visitor', 'Weekend_False', 'Weekend_True',\n",
       "       'Month_Aug', 'Month_Dec', 'Month_Feb', 'Month_Jul', 'Month_June',\n",
       "       'Month_Mar', 'Month_May', 'Month_Nov', 'Month_Oct', 'Month_Sep'],\n",
       "      dtype=object)"
      ]
     },
     "execution_count": 17,
     "metadata": {},
     "output_type": "execute_result"
    }
   ],
   "source": [
    "shopper_df = shopper_df[to_keep]\n",
    "shopper_df.columns.values"
   ]
  },
  {
   "cell_type": "markdown",
   "id": "bf477082",
   "metadata": {},
   "source": [
    "# Over-sampling using SMOTE"
   ]
  },
  {
   "cell_type": "code",
   "execution_count": null,
   "id": "e21aecc5",
   "metadata": {
    "scrolled": true
   },
   "outputs": [
    {
     "name": "stdout",
     "output_type": "stream",
     "text": [
      "Length of oversampled data is :  14690\n",
      "Number of no Revenue in oversampled data :  7345\n",
      "Number of Revenue :  7345\n",
      "Proportion of Revenue in oversampled data is :  7345\n"
     ]
    }
   ],
   "source": [
    "X = shopper_df.loc[:, shopper_df.columns != 'Revenue']\n",
    "y = shopper_df.loc[:, shopper_df.columns == 'Revenue']\n",
    "\n",
    "os = SMOTE(random_state=0)\n",
    "X_train, X_test, y_train, y_test = train_test_split(X, y, test_size=0.3, random_state=0)\n",
    "columns = X_train.columns\n",
    "\n",
    "os_data_X, os_data_y = os.fit_resample(X_train, y_train)\n",
    "os_data_X = pd.DataFrame(data=os_data_X, columns=columns)\n",
    "os_data_y = pd.DataFrame(data=os_data_y, columns=['Revenue'])\n",
    "\n",
    "print(\"Length of oversampled data is : \", len(os_data_X))\n",
    "print(\"Number of no Revenue in oversampled data : \", len(os_data_y[os_data_y['Revenue']==0]))\n",
    "print(\"Number of Revenue : \", len(os_data_y[os_data_y['Revenue']==1]))\n",
    "print(\"Proportion of Revenue in oversampled data is : \", len(os_data_y[os_data_y['Revenue']==1]/len(os_data_X)))"
   ]
  },
  {
   "cell_type": "markdown",
   "id": "1ecdf014",
   "metadata": {},
   "source": [
    "# Recursive Feature Elimination"
   ]
  },
  {
   "cell_type": "code",
   "execution_count": null,
   "id": "8630a736",
   "metadata": {},
   "outputs": [
    {
     "name": "stderr",
     "output_type": "stream",
     "text": [
      "C:\\Users\\Praveen Satya\\AppData\\Local\\Programs\\Python\\Python310\\lib\\site-packages\\sklearn\\linear_model\\_logistic.py:458: ConvergenceWarning: lbfgs failed to converge (status=1):\n",
      "STOP: TOTAL NO. of ITERATIONS REACHED LIMIT.\n",
      "\n",
      "Increase the number of iterations (max_iter) or scale the data as shown in:\n",
      "    https://scikit-learn.org/stable/modules/preprocessing.html\n",
      "Please also refer to the documentation for alternative solver options:\n",
      "    https://scikit-learn.org/stable/modules/linear_model.html#logistic-regression\n",
      "  n_iter_i = _check_optimize_result(\n",
      "C:\\Users\\Praveen Satya\\AppData\\Local\\Programs\\Python\\Python310\\lib\\site-packages\\sklearn\\linear_model\\_logistic.py:458: ConvergenceWarning: lbfgs failed to converge (status=1):\n",
      "STOP: TOTAL NO. of ITERATIONS REACHED LIMIT.\n",
      "\n",
      "Increase the number of iterations (max_iter) or scale the data as shown in:\n",
      "    https://scikit-learn.org/stable/modules/preprocessing.html\n",
      "Please also refer to the documentation for alternative solver options:\n",
      "    https://scikit-learn.org/stable/modules/linear_model.html#logistic-regression\n",
      "  n_iter_i = _check_optimize_result(\n"
     ]
    },
    {
     "name": "stdout",
     "output_type": "stream",
     "text": [
      "[False False False False False False False False False False  True  True\n",
      "  True  True False False False False  True  True False  True  True False\n",
      " False False False False False False False  True  True  True  True  True\n",
      "  True  True  True  True  True  True  True  True False  True False False\n",
      " False  True  True False  True False False False False False False  True\n",
      " False False False  True  True  True  True  True  True  True  True  True\n",
      " False  True  True]\n",
      "[2 3 2 3 2 3 2 2 2 2 1 1 1 1 3 3 3 2 1 1 2 1 1 2 3 2 3 2 3 3 3 1 1 1 1 1 1\n",
      " 1 1 1 1 1 1 1 2 1 3 2 3 1 1 3 1 3 3 3 3 3 3 1 2 2 2 1 1 1 1 1 1 1 1 1 2 1\n",
      " 1]\n"
     ]
    }
   ],
   "source": [
    "data_final_vars = shopper_df.columns.values.tolist()\n",
    "y=['y']\n",
    "X=[i for i in data_final_vars if i not in y]\n",
    "\n",
    "logreg = LogisticRegression()\n",
    "\n",
    "rfe = RFE(logreg, step = 20)\n",
    "rfe = rfe.fit(os_data_X, os_data_y.values.ravel())\n",
    "print(rfe.support_)\n",
    "print(rfe.ranking_)"
   ]
  },
  {
   "cell_type": "code",
   "execution_count": 20,
   "id": "9b99f181",
   "metadata": {
    "scrolled": true
   },
   "outputs": [
    {
     "data": {
      "text/plain": [
       "array(['OperatingSystems_1', 'OperatingSystems_2', 'OperatingSystems_3',\n",
       "       'OperatingSystems_4', 'Browser_1', 'Browser_2', 'Browser_4',\n",
       "       'Browser_5', 'Region_1', 'Region_2', 'Region_3', 'Region_4',\n",
       "       'Region_5', 'Region_6', 'Region_7', 'Region_8', 'Region_9',\n",
       "       'TrafficType_1', 'TrafficType_2', 'TrafficType_3', 'TrafficType_4',\n",
       "       'TrafficType_6', 'TrafficType_10', 'TrafficType_11',\n",
       "       'TrafficType_13', 'TrafficType_20', 'Weekend_False',\n",
       "       'Weekend_True', 'Month_Aug', 'Month_Dec', 'Month_Feb', 'Month_Jul',\n",
       "       'Month_June', 'Month_Mar', 'Month_May', 'Month_Oct', 'Month_Sep'],\n",
       "      dtype=object)"
      ]
     },
     "execution_count": 20,
     "metadata": {},
     "output_type": "execute_result"
    }
   ],
   "source": [
    "rfe.get_feature_names_out()"
   ]
  },
  {
   "cell_type": "code",
   "execution_count": 21,
   "id": "1c2cd7fc",
   "metadata": {},
   "outputs": [],
   "source": [
    "cols=['OperatingSystems_1', 'OperatingSystems_2', 'OperatingSystems_3',\n",
    "       'OperatingSystems_4', 'Browser_1', 'Browser_2', 'Browser_4',\n",
    "       'Browser_5', 'Region_1', 'Region_2', 'Region_3', 'Region_4',\n",
    "       'Region_5', 'Region_6', 'Region_7', 'Region_8', 'Region_9',\n",
    "       'TrafficType_1', 'TrafficType_2', 'TrafficType_3', 'TrafficType_4',\n",
    "       'TrafficType_6', 'TrafficType_10', 'TrafficType_11',\n",
    "       'TrafficType_13', 'TrafficType_20', 'Weekend_False',\n",
    "       'Weekend_True', 'Month_Aug', 'Month_Dec', 'Month_Feb', 'Month_Jul',\n",
    "       'Month_June', 'Month_Mar', 'Month_May', 'Month_Oct', 'Month_Sep']\n",
    "X=os_data_X[cols]\n",
    "y=os_data_y['Revenue']"
   ]
  },
  {
   "cell_type": "markdown",
   "id": "4a637123",
   "metadata": {},
   "source": [
    "# Implementing the model"
   ]
  },
  {
   "cell_type": "code",
   "execution_count": null,
   "id": "9aed7238",
   "metadata": {},
   "outputs": [
    {
     "name": "stdout",
     "output_type": "stream",
     "text": [
      "Optimization terminated successfully.\n",
      "         Current function value: 0.459365\n",
      "         Iterations 8\n",
      "                          Results: Logit\n",
      "===================================================================\n",
      "Model:                Logit            Method:           MLE       \n",
      "Dependent Variable:   Revenue          Pseudo R-squared: 0.337     \n",
      "Date:                 2024-04-22 19:52 AIC:              13570.1378\n",
      "No. Observations:     14690            BIC:              13851.1499\n",
      "Df Model:             36               Log-Likelihood:   -6748.1   \n",
      "Df Residuals:         14653            LL-Null:          -10182.   \n",
      "Converged:            1.0000           LLR p-value:      0.0000    \n",
      "No. Iterations:       8.0000           Scale:            1.0000    \n",
      "-------------------------------------------------------------------\n",
      "                    Coef.  Std.Err.    z     P>|z|   [0.025  0.975]\n",
      "-------------------------------------------------------------------\n",
      "OperatingSystems_1 -0.0475   0.1208  -0.3931 0.6942 -0.2842  0.1892\n",
      "OperatingSystems_2  0.5400   0.0648   8.3358 0.0000  0.4131  0.6670\n",
      "OperatingSystems_3 -0.6444   0.0984  -6.5466 0.0000 -0.8373 -0.4515\n",
      "OperatingSystems_4  0.1289   0.1594   0.8088 0.4187 -0.1835  0.4414\n",
      "Browser_1           0.3264   0.1241   2.6295 0.0086  0.0831  0.5697\n",
      "Browser_2           0.7069   0.0602  11.7363 0.0000  0.5888  0.8249\n",
      "Browser_4           0.0210   0.1331   0.1576 0.8748 -0.2399  0.2819\n",
      "Browser_5          -0.0061   0.1652  -0.0370 0.9705 -0.3298  0.3176\n",
      "Region_1           -1.3507   0.0696 -19.4100 0.0000 -1.4871 -1.2143\n",
      "Region_2           -1.8493   0.1147 -16.1232 0.0000 -2.0741 -1.6245\n",
      "Region_3           -1.7105   0.0860 -19.8969 0.0000 -1.8790 -1.5420\n",
      "Region_4           -1.9495   0.1153 -16.9055 0.0000 -2.1755 -1.7235\n",
      "Region_5           -2.2837   0.2024 -11.2845 0.0000 -2.6803 -1.8870\n",
      "Region_6           -2.3763   0.1525 -15.5868 0.0000 -2.6751 -2.0775\n",
      "Region_7           -2.0685   0.1335 -15.4950 0.0000 -2.3301 -1.8069\n",
      "Region_8           -2.3243   0.1962 -11.8453 0.0000 -2.7089 -1.9397\n",
      "Region_9           -2.2400   0.1551 -14.4425 0.0000 -2.5440 -1.9360\n",
      "TrafficType_1      -1.4960   0.0842 -17.7642 0.0000 -1.6610 -1.3309\n",
      "TrafficType_2      -0.4276   0.0584  -7.3166 0.0000 -0.5421 -0.3130\n",
      "TrafficType_3      -1.7197   0.0966 -17.8035 0.0000 -1.9090 -1.5303\n",
      "TrafficType_4      -1.2011   0.1169 -10.2720 0.0000 -1.4302 -0.9719\n",
      "TrafficType_6      -1.8420   0.1871  -9.8458 0.0000 -2.2087 -1.4753\n",
      "TrafficType_10     -1.3504   0.1519  -8.8919 0.0000 -1.6481 -1.0527\n",
      "TrafficType_11     -1.4540   0.2119  -6.8631 0.0000 -1.8692 -1.0387\n",
      "TrafficType_13     -2.7122   0.1896 -14.3013 0.0000 -3.0839 -2.3405\n",
      "TrafficType_20     -1.0555   0.2384  -4.4265 0.0000 -1.5228 -0.5881\n",
      "Weekend_False       1.8317   0.0576  31.7725 0.0000  1.7187  1.9446\n",
      "Weekend_True        1.5930   0.0780  20.4302 0.0000  1.4402  1.7458\n",
      "Month_Aug          -0.9849   0.1513  -6.5110 0.0000 -1.2814 -0.6884\n",
      "Month_Dec          -1.6523   0.0878 -18.8247 0.0000 -1.8243 -1.4803\n",
      "Month_Feb          -3.3381   0.5920  -5.6382 0.0000 -4.4984 -2.1777\n",
      "Month_Jul          -1.0754   0.1644  -6.5406 0.0000 -1.3977 -0.7532\n",
      "Month_June         -1.9275   0.2395  -8.0486 0.0000 -2.3969 -1.4581\n",
      "Month_Mar          -1.9387   0.0941 -20.5925 0.0000 -2.1232 -1.7542\n",
      "Month_May          -1.2240   0.0681 -17.9654 0.0000 -1.3575 -1.0904\n",
      "Month_Oct          -0.9470   0.1245  -7.6042 0.0000 -1.1911 -0.7029\n",
      "Month_Sep          -1.3312   0.1587  -8.3896 0.0000 -1.6422 -1.0202\n",
      "===================================================================\n",
      "\n"
     ]
    }
   ],
   "source": [
    "logit_model = sm.Logit(y,X)\n",
    "result = logit_model.fit()\n",
    "print(result.summary2())"
   ]
  },
  {
   "cell_type": "code",
   "execution_count": 23,
   "id": "ed5e4e07",
   "metadata": {},
   "outputs": [
    {
     "name": "stdout",
     "output_type": "stream",
     "text": [
      "Optimization terminated successfully.\n",
      "         Current function value: 0.459410\n",
      "         Iterations 8\n",
      "                          Results: Logit\n",
      "===================================================================\n",
      "Model:                Logit            Method:           MLE       \n",
      "Dependent Variable:   Revenue          Pseudo R-squared: 0.337     \n",
      "Date:                 2024-04-22 19:52 AIC:              13563.4600\n",
      "No. Observations:     14690            BIC:              13814.0925\n",
      "Df Model:             32               Log-Likelihood:   -6748.7   \n",
      "Df Residuals:         14657            LL-Null:          -10182.   \n",
      "Converged:            1.0000           LLR p-value:      0.0000    \n",
      "No. Iterations:       8.0000           Scale:            1.0000    \n",
      "-------------------------------------------------------------------\n",
      "                    Coef.  Std.Err.    z     P>|z|   [0.025  0.975]\n",
      "-------------------------------------------------------------------\n",
      "OperatingSystems_2  0.5387   0.0578   9.3209 0.0000  0.4254  0.6520\n",
      "OperatingSystems_3 -0.6466   0.0937  -6.8975 0.0000 -0.8304 -0.4629\n",
      "Browser_1           0.2952   0.0811   3.6392 0.0003  0.1362  0.4542\n",
      "Browser_2           0.7058   0.0525  13.4371 0.0000  0.6029  0.8088\n",
      "Region_1           -1.3484   0.0682 -19.7652 0.0000 -1.4821 -1.2147\n",
      "Region_2           -1.8476   0.1140 -16.2097 0.0000 -2.0710 -1.6242\n",
      "Region_3           -1.7090   0.0845 -20.2143 0.0000 -1.8747 -1.5433\n",
      "Region_4           -1.9467   0.1142 -17.0395 0.0000 -2.1707 -1.7228\n",
      "Region_5           -2.2831   0.2020 -11.3038 0.0000 -2.6790 -1.8873\n",
      "Region_6           -2.3778   0.1514 -15.7013 0.0000 -2.6746 -2.0810\n",
      "Region_7           -2.0675   0.1327 -15.5856 0.0000 -2.3276 -1.8075\n",
      "Region_8           -2.3266   0.1954 -11.9098 0.0000 -2.7095 -1.9437\n",
      "Region_9           -2.2342   0.1542 -14.4927 0.0000 -2.5364 -1.9321\n",
      "TrafficType_1      -1.4919   0.0838 -17.8055 0.0000 -1.6561 -1.3277\n",
      "TrafficType_2      -0.4271   0.0580  -7.3633 0.0000 -0.5408 -0.3134\n",
      "TrafficType_3      -1.7154   0.0961 -17.8474 0.0000 -1.9038 -1.5270\n",
      "TrafficType_4      -1.1981   0.1167 -10.2687 0.0000 -1.4268 -0.9694\n",
      "TrafficType_6      -1.8398   0.1870  -9.8394 0.0000 -2.2063 -1.4733\n",
      "TrafficType_10     -1.3488   0.1514  -8.9101 0.0000 -1.6454 -1.0521\n",
      "TrafficType_11     -1.4570   0.2108  -6.9126 0.0000 -1.8701 -1.0439\n",
      "TrafficType_13     -2.7109   0.1896 -14.2949 0.0000 -3.0825 -2.3392\n",
      "TrafficType_20     -1.0583   0.2382  -4.4418 0.0000 -1.5252 -0.5913\n",
      "Weekend_False       1.8317   0.0574  31.9316 0.0000  1.7193  1.9442\n",
      "Weekend_True        1.5919   0.0776  20.5245 0.0000  1.4399  1.7440\n",
      "Month_Aug          -0.9850   0.1512  -6.5152 0.0000 -1.2813 -0.6887\n",
      "Month_Dec          -1.6502   0.0877 -18.8215 0.0000 -1.8220 -1.4783\n",
      "Month_Feb          -3.3367   0.5919  -5.6378 0.0000 -4.4968 -2.1767\n",
      "Month_Jul          -1.0767   0.1644  -6.5505 0.0000 -1.3988 -0.7545\n",
      "Month_June         -1.9259   0.2394  -8.0439 0.0000 -2.3952 -1.4567\n",
      "Month_Mar          -1.9386   0.0940 -20.6134 0.0000 -2.1230 -1.7543\n",
      "Month_May          -1.2229   0.0680 -17.9936 0.0000 -1.3561 -1.0897\n",
      "Month_Oct          -0.9426   0.1243  -7.5818 0.0000 -1.1862 -0.6989\n",
      "Month_Sep          -1.3307   0.1586  -8.3889 0.0000 -1.6416 -1.0198\n",
      "===================================================================\n",
      "\n"
     ]
    }
   ],
   "source": [
    "cols=['OperatingSystems_2', 'OperatingSystems_3', 'Browser_1', 'Browser_2', \n",
    "       'Region_1', 'Region_2', 'Region_3', 'Region_4',\n",
    "       'Region_5', 'Region_6', 'Region_7', 'Region_8', 'Region_9',\n",
    "       'TrafficType_1', 'TrafficType_2', 'TrafficType_3', 'TrafficType_4',\n",
    "       'TrafficType_6', 'TrafficType_10', 'TrafficType_11',\n",
    "       'TrafficType_13', 'TrafficType_20', 'Weekend_False',\n",
    "       'Weekend_True', 'Month_Aug', 'Month_Dec', 'Month_Feb', 'Month_Jul',\n",
    "       'Month_June', 'Month_Mar', 'Month_May', 'Month_Oct', 'Month_Sep']\n",
    "\n",
    "X=os_data_X[cols]\n",
    "y=os_data_y['Revenue']\n",
    "\n",
    "logit_model = sm.Logit(y,X)\n",
    "result = logit_model.fit()\n",
    "print(result.summary2())"
   ]
  },
  {
   "cell_type": "markdown",
   "id": "36eee2bb",
   "metadata": {},
   "source": [
    "# Logistic Regression Model Fitting"
   ]
  },
  {
   "cell_type": "code",
   "execution_count": null,
   "id": "4750c3d8",
   "metadata": {},
   "outputs": [
    {
     "data": {
      "text/html": [
       "<style>#sk-container-id-1 {color: black;background-color: white;}#sk-container-id-1 pre{padding: 0;}#sk-container-id-1 div.sk-toggleable {background-color: white;}#sk-container-id-1 label.sk-toggleable__label {cursor: pointer;display: block;width: 100%;margin-bottom: 0;padding: 0.3em;box-sizing: border-box;text-align: center;}#sk-container-id-1 label.sk-toggleable__label-arrow:before {content: \"▸\";float: left;margin-right: 0.25em;color: #696969;}#sk-container-id-1 label.sk-toggleable__label-arrow:hover:before {color: black;}#sk-container-id-1 div.sk-estimator:hover label.sk-toggleable__label-arrow:before {color: black;}#sk-container-id-1 div.sk-toggleable__content {max-height: 0;max-width: 0;overflow: hidden;text-align: left;background-color: #f0f8ff;}#sk-container-id-1 div.sk-toggleable__content pre {margin: 0.2em;color: black;border-radius: 0.25em;background-color: #f0f8ff;}#sk-container-id-1 input.sk-toggleable__control:checked~div.sk-toggleable__content {max-height: 200px;max-width: 100%;overflow: auto;}#sk-container-id-1 input.sk-toggleable__control:checked~label.sk-toggleable__label-arrow:before {content: \"▾\";}#sk-container-id-1 div.sk-estimator input.sk-toggleable__control:checked~label.sk-toggleable__label {background-color: #d4ebff;}#sk-container-id-1 div.sk-label input.sk-toggleable__control:checked~label.sk-toggleable__label {background-color: #d4ebff;}#sk-container-id-1 input.sk-hidden--visually {border: 0;clip: rect(1px 1px 1px 1px);clip: rect(1px, 1px, 1px, 1px);height: 1px;margin: -1px;overflow: hidden;padding: 0;position: absolute;width: 1px;}#sk-container-id-1 div.sk-estimator {font-family: monospace;background-color: #f0f8ff;border: 1px dotted black;border-radius: 0.25em;box-sizing: border-box;margin-bottom: 0.5em;}#sk-container-id-1 div.sk-estimator:hover {background-color: #d4ebff;}#sk-container-id-1 div.sk-parallel-item::after {content: \"\";width: 100%;border-bottom: 1px solid gray;flex-grow: 1;}#sk-container-id-1 div.sk-label:hover label.sk-toggleable__label {background-color: #d4ebff;}#sk-container-id-1 div.sk-serial::before {content: \"\";position: absolute;border-left: 1px solid gray;box-sizing: border-box;top: 0;bottom: 0;left: 50%;z-index: 0;}#sk-container-id-1 div.sk-serial {display: flex;flex-direction: column;align-items: center;background-color: white;padding-right: 0.2em;padding-left: 0.2em;position: relative;}#sk-container-id-1 div.sk-item {position: relative;z-index: 1;}#sk-container-id-1 div.sk-parallel {display: flex;align-items: stretch;justify-content: center;background-color: white;position: relative;}#sk-container-id-1 div.sk-item::before, #sk-container-id-1 div.sk-parallel-item::before {content: \"\";position: absolute;border-left: 1px solid gray;box-sizing: border-box;top: 0;bottom: 0;left: 50%;z-index: -1;}#sk-container-id-1 div.sk-parallel-item {display: flex;flex-direction: column;z-index: 1;position: relative;background-color: white;}#sk-container-id-1 div.sk-parallel-item:first-child::after {align-self: flex-end;width: 50%;}#sk-container-id-1 div.sk-parallel-item:last-child::after {align-self: flex-start;width: 50%;}#sk-container-id-1 div.sk-parallel-item:only-child::after {width: 0;}#sk-container-id-1 div.sk-dashed-wrapped {border: 1px dashed gray;margin: 0 0.4em 0.5em 0.4em;box-sizing: border-box;padding-bottom: 0.4em;background-color: white;}#sk-container-id-1 div.sk-label label {font-family: monospace;font-weight: bold;display: inline-block;line-height: 1.2em;}#sk-container-id-1 div.sk-label-container {text-align: center;}#sk-container-id-1 div.sk-container {/* jupyter's `normalize.less` sets `[hidden] { display: none; }` but bootstrap.min.css set `[hidden] { display: none !important; }` so we also need the `!important` here to be able to override the default hidden behavior on the sphinx rendered scikit-learn.org. See: https://github.com/scikit-learn/scikit-learn/issues/21755 */display: inline-block !important;position: relative;}#sk-container-id-1 div.sk-text-repr-fallback {display: none;}</style><div id=\"sk-container-id-1\" class=\"sk-top-container\"><div class=\"sk-text-repr-fallback\"><pre>LogisticRegression()</pre><b>In a Jupyter environment, please rerun this cell to show the HTML representation or trust the notebook. <br />On GitHub, the HTML representation is unable to render, please try loading this page with nbviewer.org.</b></div><div class=\"sk-container\" hidden><div class=\"sk-item\"><div class=\"sk-estimator sk-toggleable\"><input class=\"sk-toggleable__control sk-hidden--visually\" id=\"sk-estimator-id-1\" type=\"checkbox\" checked><label for=\"sk-estimator-id-1\" class=\"sk-toggleable__label sk-toggleable__label-arrow\">LogisticRegression</label><div class=\"sk-toggleable__content\"><pre>LogisticRegression()</pre></div></div></div></div></div>"
      ],
      "text/plain": [
       "LogisticRegression()"
      ]
     },
     "execution_count": 24,
     "metadata": {},
     "output_type": "execute_result"
    }
   ],
   "source": [
    "X_train, X_test, y_train, y_test = train_test_split(X, y, test_size=0.3, random_state=0)\n",
    "logreg = LogisticRegression()\n",
    "logreg.fit(X_train, y_train)"
   ]
  },
  {
   "cell_type": "code",
   "execution_count": 25,
   "id": "9a7deeb0",
   "metadata": {},
   "outputs": [
    {
     "name": "stdout",
     "output_type": "stream",
     "text": [
      "Accuracy of logistic regression classifier on test set: 0.89\n"
     ]
    }
   ],
   "source": [
    "y_pred = logreg.predict(X_test)\n",
    "print('Accuracy of logistic regression classifier on test set: {:.2f}'.format(logreg.score(X_test, y_test)))"
   ]
  },
  {
   "cell_type": "code",
   "execution_count": null,
   "id": "e21e59df",
   "metadata": {
    "scrolled": true
   },
   "outputs": [
    {
     "data": {
      "image/png": "[encoded data removed]",
      "text/plain": [
       "<Figure size 432x288 with 1 Axes>"
      ]
     },
     "metadata": {
      "needs_background": "light"
     },
     "output_type": "display_data"
    }
   ],
   "source": [
    "# confusion matrix for Logistic Regression model\n",
    "cm = confusion_matrix(y_test, y_pred)\n",
    "\n",
    "# Visualize the confusion matrix\n",
    "plt.figure(figsize=(6, 4))\n",
    "sns.heatmap(cm, annot=True, fmt='d', cmap='Blues', cbar=False)\n",
    "plt.xlabel('Predicted Labels')\n",
    "plt.ylabel('Actual Labels')\n",
    "plt.title('Confusion Matrix')\n",
    "plt.show()"
   ]
  },
  {
   "cell_type": "code",
   "execution_count": null,
   "id": "52e5699a",
   "metadata": {
    "scrolled": true
   },
   "outputs": [
    {
     "name": "stdout",
     "output_type": "stream",
     "text": [
      "              precision    recall  f1-score   support\n",
      "\n",
      "           0       0.84      0.97      0.90      2175\n",
      "           1       0.96      0.82      0.89      2232\n",
      "\n",
      "    accuracy                           0.89      4407\n",
      "   macro avg       0.90      0.89      0.89      4407\n",
      "weighted avg       0.90      0.89      0.89      4407\n",
      "\n"
     ]
    }
   ],
   "source": [
    "# compute precision, recall, F-measure and support \n",
    "print(classification_report(y_test, y_pred))"
   ]
  },
  {
   "cell_type": "code",
   "execution_count": null,
   "id": "2254ad28",
   "metadata": {
    "scrolled": false
   },
   "outputs": [
    {
     "data": {
      "image/png": "[encoded data removed]",
      "text/plain": [
       "<Figure size 432x288 with 1 Axes>"
      ]
     },
     "metadata": {
      "needs_background": "light"
     },
     "output_type": "display_data"
    }
   ],
   "source": [
    "# ROC curve\n",
    "logit_roc_auc = roc_auc_score(y_test, logreg.predict(X_test))\n",
    "fpr, tpr, thresholds = roc_curve(y_test, logreg.predict_proba(X_test)[:,1])\n",
    "plt.figure()\n",
    "plt.plot(fpr, tpr, label='Logistic Regression (area = %0.2f)' % logit_roc_auc)\n",
    "plt.plot([0, 1], [0, 1],'r--')\n",
    "plt.xlim([0.0, 1.0])\n",
    "plt.ylim([0.0, 1.05])\n",
    "plt.xlabel('False Positive Rate')\n",
    "plt.ylabel('True Positive Rate')\n",
    "plt.title('Receiver operating characteristic')\n",
    "plt.legend(loc=\"lower right\")\n",
    "plt.savefig('Log_ROC')\n",
    "plt.show()"
   ]
  },
  {
   "cell_type": "code",
   "execution_count": 29,
   "id": "c923d3cf",
   "metadata": {},
   "outputs": [
    {
     "name": "stderr",
     "output_type": "stream",
     "text": [
      "C:\\Users\\Praveen Satya\\AppData\\Local\\Programs\\Python\\Python310\\lib\\site-packages\\sklearn\\utils\\validation.py:1143: DataConversionWarning: A column-vector y was passed when a 1d array was expected. Please change the shape of y to (n_samples, ), for example using ravel().\n",
      "  y = column_or_1d(y, warn=True)\n",
      "C:\\Users\\Praveen Satya\\AppData\\Local\\Programs\\Python\\Python310\\lib\\site-packages\\sklearn\\linear_model\\_logistic.py:458: ConvergenceWarning: lbfgs failed to converge (status=1):\n",
      "STOP: TOTAL NO. of ITERATIONS REACHED LIMIT.\n",
      "\n",
      "Increase the number of iterations (max_iter) or scale the data as shown in:\n",
      "    https://scikit-learn.org/stable/modules/preprocessing.html\n",
      "Please also refer to the documentation for alternative solver options:\n",
      "    https://scikit-learn.org/stable/modules/linear_model.html#logistic-regression\n",
      "  n_iter_i = _check_optimize_result(\n"
     ]
    },
    {
     "data": {
      "image/png": "[encoded data removed]",
      "text/plain": [
       "<Figure size 432x288 with 1 Axes>"
      ]
     },
     "metadata": {
      "needs_background": "light"
     },
     "output_type": "display_data"
    }
   ],
   "source": [
    "# result comparison - oversampled vs original data\n",
    "X_org = shopper_df.loc[:, shopper_df.columns != 'Revenue']\n",
    "y_org = shopper_df.loc[:, shopper_df.columns == 'Revenue']\n",
    "\n",
    "X_train_org, X_test_org, y_train_org, y_test_org = train_test_split(X_org, y_org, test_size=0.3, random_state=0)\n",
    "logreg = LogisticRegression()\n",
    "logreg.fit(X_train_org, y_train_org)\n",
    "\n",
    "y_pred_org = logreg.predict(X_test_org)\n",
    "\n",
    "cm = confusion_matrix(y_test_org, y_pred_org)\n",
    "\n",
    "# Visualize the confusion matrix\n",
    "plt.figure(figsize=(6, 4))\n",
    "sns.heatmap(cm, annot=True, fmt='d', cmap='Blues', cbar=False)\n",
    "plt.xlabel('Predicted Labels')\n",
    "plt.ylabel('Actual Labels')\n",
    "plt.title('Confusion Matrix')\n",
    "plt.show()"
   ]
  },
  {
   "cell_type": "code",
   "execution_count": 30,
   "id": "a3c6189d",
   "metadata": {},
   "outputs": [
    {
     "data": {
      "image/png": "[encoded data removed]",
      "text/plain": [
       "<Figure size 432x288 with 1 Axes>"
      ]
     },
     "metadata": {
      "needs_background": "light"
     },
     "output_type": "display_data"
    }
   ],
   "source": [
    "# ROC curve\n",
    "logit_roc_auc = roc_auc_score(y_test_org, logreg.predict(X_test_org))\n",
    "fpr, tpr, thresholds = roc_curve(y_test_org, logreg.predict_proba(X_test_org)[:,1])\n",
    "plt.figure()\n",
    "plt.plot(fpr, tpr, label='Logistic Regression (area = %0.2f)' % logit_roc_auc)\n",
    "plt.plot([0, 1], [0, 1],'r--')\n",
    "plt.xlim([0.0, 1.0])\n",
    "plt.ylim([0.0, 1.05])\n",
    "plt.xlabel('False Positive Rate')\n",
    "plt.ylabel('True Positive Rate')\n",
    "plt.title('Receiver operating characteristic')\n",
    "plt.legend(loc=\"lower right\")\n",
    "plt.savefig('Log_ROC')\n",
    "plt.show()"
   ]
  },
  {
   "cell_type": "markdown",
   "id": "608ca2d1",
   "metadata": {},
   "source": [
    "# SVM Model Fitting"
   ]
  },
  {
   "cell_type": "code",
   "execution_count": null,
   "id": "cd24a1e7",
   "metadata": {},
   "outputs": [
    {
     "name": "stdout",
     "output_type": "stream",
     "text": [
      "Accuracy of SVM model classifier on test set: 0.89\n"
     ]
    }
   ],
   "source": [
    "model = SVC(kernel='rbf', gamma='scale', C=1.0)\n",
    "model.fit(X_train, y_train)\n",
    "y_pred = model.predict(X_test)\n",
    "\n",
    "print('Accuracy of SVM model classifier on test set: {:.2f}'.format(model.score(X_test, y_test)))"
   ]
  },
  {
   "cell_type": "markdown",
   "id": "00100ded",
   "metadata": {},
   "source": [
    "# Confusion Matrix"
   ]
  },
  {
   "cell_type": "code",
   "execution_count": null,
   "id": "b3e29164",
   "metadata": {
    "scrolled": true
   },
   "outputs": [
    {
     "data": {
      "image/png": "[encoded data removed]",
      "text/plain": [
       "<Figure size 432x288 with 1 Axes>"
      ]
     },
     "metadata": {
      "needs_background": "light"
     },
     "output_type": "display_data"
    }
   ],
   "source": [
    "# confusion matrix\n",
    "cm = confusion_matrix(y_test, y_pred)\n",
    "\n",
    "# Visualize the confusion matrix\n",
    "plt.figure(figsize=(6, 4))\n",
    "sns.heatmap(cm, annot=True, fmt='d', cmap='Blues', cbar=False)\n",
    "plt.xlabel('Predicted Labels')\n",
    "plt.ylabel('Actual Labels')\n",
    "plt.title('Confusion Matrix')\n",
    "plt.show()"
   ]
  },
  {
   "cell_type": "markdown",
   "id": "77f00007",
   "metadata": {},
   "source": [
    "# Compute precision, recall, F-measure and support"
   ]
  },
  {
   "cell_type": "code",
   "execution_count": null,
   "id": "412a632e",
   "metadata": {
    "scrolled": true
   },
   "outputs": [
    {
     "name": "stdout",
     "output_type": "stream",
     "text": [
      "              precision    recall  f1-score   support\n",
      "\n",
      "           0       0.83      0.98      0.90      2175\n",
      "           1       0.98      0.81      0.89      2232\n",
      "\n",
      "    accuracy                           0.89      4407\n",
      "   macro avg       0.91      0.90      0.89      4407\n",
      "weighted avg       0.91      0.89      0.89      4407\n",
      "\n"
     ]
    }
   ],
   "source": [
    "print(classification_report(y_test, y_pred))"
   ]
  },
  {
   "cell_type": "markdown",
   "id": "2e1a3d46",
   "metadata": {},
   "source": [
    "# Random Forests Model Fitting"
   ]
  },
  {
   "cell_type": "code",
   "execution_count": null,
   "id": "4c069ef2",
   "metadata": {},
   "outputs": [
    {
     "name": "stdout",
     "output_type": "stream",
     "text": [
      "Accuracy of random forests model classifier on test set: 0.88\n"
     ]
    }
   ],
   "source": [
    "model = RandomForestClassifier(n_estimators=100, random_state=42)\n",
    "model.fit(X_train, y_train)\n",
    "y_pred = model.predict(X_test)\n",
    "\n",
    "print('Accuracy of random forests model classifier on test set: {:.2f}'.format(model.score(X_test, y_test)))"
   ]
  },
  {
   "cell_type": "markdown",
   "id": "8e4341d7",
   "metadata": {},
   "source": [
    "# Confusion Matrix"
   ]
  },
  {
   "cell_type": "code",
   "execution_count": null,
   "id": "9ecb7af4",
   "metadata": {
    "scrolled": true
   },
   "outputs": [
    {
     "data": {
      "image/png": "[encoded data removed]",
      "text/plain": [
       "<Figure size 432x288 with 1 Axes>"
      ]
     },
     "metadata": {
      "needs_background": "light"
     },
     "output_type": "display_data"
    }
   ],
   "source": [
    "cm = confusion_matrix(y_test, y_pred)\n",
    "\n",
    "# Visualize the confusion matrix\n",
    "plt.figure(figsize=(6, 4))\n",
    "sns.heatmap(cm, annot=True, fmt='d', cmap='Blues', cbar=False)\n",
    "plt.xlabel('Predicted Labels')\n",
    "plt.ylabel('Actual Labels')\n",
    "plt.title('Confusion Matrix')\n",
    "plt.show()"
   ]
  },
  {
   "cell_type": "markdown",
   "id": "b4224242",
   "metadata": {},
   "source": [
    "# Compute precision, recall, F-measure and support"
   ]
  },
  {
   "cell_type": "code",
   "execution_count": null,
   "id": "720eb1a4",
   "metadata": {
    "scrolled": true
   },
   "outputs": [
    {
     "name": "stdout",
     "output_type": "stream",
     "text": [
      "              precision    recall  f1-score   support\n",
      "\n",
      "           0       0.85      0.93      0.89      2175\n",
      "           1       0.92      0.84      0.88      2232\n",
      "\n",
      "    accuracy                           0.88      4407\n",
      "   macro avg       0.88      0.88      0.88      4407\n",
      "weighted avg       0.88      0.88      0.88      4407\n",
      "\n"
     ]
    }
   ],
   "source": [
    "print(classification_report(y_test, y_pred))"
   ]
  },
  {
   "cell_type": "markdown",
   "id": "abb43a24",
   "metadata": {},
   "source": [
    "# ROC Curve"
   ]
  },
  {
   "cell_type": "code",
   "execution_count": null,
   "id": "4a66ecbc",
   "metadata": {
    "scrolled": true
   },
   "outputs": [
    {
     "data": {
      "image/png": "[encoded data removed]",
      "text/plain": [
       "<Figure size 432x288 with 1 Axes>"
      ]
     },
     "metadata": {
      "needs_background": "light"
     },
     "output_type": "display_data"
    }
   ],
   "source": [
    "rf_roc_auc = roc_auc_score(y_test, model.predict(X_test))\n",
    "fpr, tpr, thresholds = roc_curve(y_test, model.predict_proba(X_test)[:,1])\n",
    "plt.figure()\n",
    "plt.plot(fpr, tpr, label='Logistic Regression (area = %0.2f)' % rf_roc_auc)\n",
    "plt.plot([0, 1], [0, 1],'r--')\n",
    "plt.xlim([0.0, 1.0])\n",
    "plt.ylim([0.0, 1.05])\n",
    "plt.xlabel('False Positive Rate')\n",
    "plt.ylabel('True Positive Rate')\n",
    "plt.title('Receiver operating characteristic')\n",
    "plt.legend(loc=\"lower right\")\n",
    "plt.savefig('Log_ROC')\n",
    "plt.show()"
   ]
  }
 ],
 "metadata": {
  "kernelspec": {
   "display_name": "Python 3",
   "language": "python",
   "name": "python3"
  },
  "language_info": {
   "codemirror_mode": {
    "name": "ipython",
    "version": 3
   },
   "file_extension": ".py",
   "mimetype": "text/x-python",
   "name": "python",
   "nbconvert_exporter": "python",
   "pygments_lexer": "ipython3",
   "version": "3.10.1"
  }
 },
 "nbformat": 4,
 "nbformat_minor": 5
}
